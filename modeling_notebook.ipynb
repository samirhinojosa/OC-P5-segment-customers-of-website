{
 "cells": [
  {
   "cell_type": "markdown",
   "id": "d01fb88d-4006-4ba6-b30d-d1f8f74600eb",
   "metadata": {},
   "source": [
    "<div style=\"display: flex; background-color: #3F579F;\">\n",
    "    <h1 style=\"margin: auto; font-weight: bold; padding: 30px 30px 0px 30px;\" align=\"center\">Segment customers of a website - P5</h1>\n",
    "</div>\n",
    "<div style=\"display: flex; background-color: #3F579F; margin: auto; padding: 5px 30px 0px 30px;\" >\n",
    "    <h3 style=\"width: 100%; text-align: center; float: left; font-size: 24px;\" align=\"center\">| Mdeling notebook |</h3>\n",
    "</div>\n",
    "<div style=\"display: flex; background-color: #3F579F; margin: auto; padding: 10px 30px 30px 30px;\">\n",
    "    <h4 style=\"width: 100%; text-align: center; float: left; font-size: 24px;\" align=\"center\">Data Scientist course - OpenClassrooms</h4>\n",
    "</div>"
   ]
  },
  {
   "cell_type": "markdown",
   "id": "4dbce629-1449-4c34-8104-26c86c4ad6c8",
   "metadata": {
    "tags": []
   },
   "source": [
    "<div style=\"background-color: #506AB9;\" >\n",
    "    <h2 style=\"margin: auto; padding: 20px; color:#fff; \">1. Libraries and functions</h2>\n",
    "</div>"
   ]
  },
  {
   "cell_type": "markdown",
   "id": "bb589b76-9cbc-4a11-be10-30ce9ad7fc8f",
   "metadata": {},
   "source": [
    "<div style=\"background-color: #6D83C5;\" >\n",
    "    <h3 style=\"margin: auto; padding: 20px; color:#fff; \">1.1. Libraries and functions</h3>\n",
    "</div>"
   ]
  },
  {
   "cell_type": "code",
   "execution_count": 1,
   "id": "d71c1574-0703-4677-8ed7-6a9ef6df38e3",
   "metadata": {},
   "outputs": [],
   "source": [
    "## General\n",
    "import pandas as pd\n",
    "import numpy as np\n",
    "import matplotlib.pyplot as plt\n",
    "import seaborn as sns\n",
    "\n",
    "## df_analysis\n",
    "import io\n",
    "import gc\n",
    "import timeit\n",
    "import math\n",
    "from math import pi\n",
    "from collections import Counter\n",
    "from math import prod\n",
    "import scipy.stats as stats\n",
    "\n",
    "%matplotlib inline\n",
    "sns.set_theme(style=\"darkgrid\")\n",
    "\n",
    "SUB = str.maketrans(\"0123456789\", \"₀₁₂₃₄₅₆₇₈₉\")\n",
    "SUP = str.maketrans(\"0123456789\", \"⁰¹²³⁴⁵⁶⁷⁸⁹\")"
   ]
  },
  {
   "cell_type": "markdown",
   "id": "4f65671d-f05c-4c4f-b118-554474e3f963",
   "metadata": {},
   "source": [
    "<div style=\"background-color: #6D83C5;\" >\n",
    "    <h3 style=\"margin: auto; padding: 20px; color:#fff; \">1.2. Functions declaration</h3>\n",
    "</div>"
   ]
  },
  {
   "cell_type": "code",
   "execution_count": null,
   "id": "22fdae4c-c19b-4819-9172-33a6c5d66953",
   "metadata": {},
   "outputs": [],
   "source": []
  },
  {
   "cell_type": "code",
   "execution_count": null,
   "id": "fc9b31f5-6989-468b-9d9b-a9c51c1882eb",
   "metadata": {},
   "outputs": [],
   "source": []
  },
  {
   "cell_type": "markdown",
   "id": "d621c45b-b0db-4d5b-a264-bd187290da69",
   "metadata": {
    "tags": []
   },
   "source": [
    "<div style=\"background-color: #506AB9;\" >\n",
    "    <h2 style=\"margin: auto; padding: 20px; color:#fff; \">2. Importing files</h2>\n",
    "</div>"
   ]
  },
  {
   "cell_type": "markdown",
   "id": "0318ea4a-838b-4b43-8c7b-29ca87a405a3",
   "metadata": {},
   "source": [
    "<div style=\"background-color: #6D83C5;\" >\n",
    "    <h3 style=\"margin: auto; padding: 20px; color:#fff; \">2.1. Importing and preparing files</h3>\n",
    "</div>"
   ]
  },
  {
   "cell_type": "markdown",
   "id": "6d5fe558-77e9-4fcd-85d5-f53b89590e27",
   "metadata": {
    "tags": []
   },
   "source": [
    "<div class=\"alert alert-block alert-info\">\n",
    "    We are going to load the dateset resulting from the PCA\n",
    "</div>"
   ]
  },
  {
   "cell_type": "code",
   "execution_count": 134,
   "id": "2a35949f-64a0-4604-92fe-402f106a8e2b",
   "metadata": {
    "tags": []
   },
   "outputs": [],
   "source": [
    "df_data_PCA = pd.read_csv(r\"datasets\\df_PCA.csv\")"
   ]
  },
  {
   "cell_type": "code",
   "execution_count": 135,
   "id": "9e8e5b97-8002-4d98-b8a6-20843973e25c",
   "metadata": {},
   "outputs": [
    {
     "data": {
      "text/html": [
       "<div>\n",
       "<style scoped>\n",
       "    .dataframe tbody tr th:only-of-type {\n",
       "        vertical-align: middle;\n",
       "    }\n",
       "\n",
       "    .dataframe tbody tr th {\n",
       "        vertical-align: top;\n",
       "    }\n",
       "\n",
       "    .dataframe thead th {\n",
       "        text-align: right;\n",
       "    }\n",
       "</style>\n",
       "<table border=\"1\" class=\"dataframe\">\n",
       "  <thead>\n",
       "    <tr style=\"text-align: right;\">\n",
       "      <th></th>\n",
       "      <th>PC1</th>\n",
       "      <th>PC2</th>\n",
       "      <th>PC3</th>\n",
       "      <th>PC4</th>\n",
       "      <th>PC5</th>\n",
       "      <th>PC6</th>\n",
       "      <th>PC7</th>\n",
       "      <th>PC8</th>\n",
       "      <th>PC9</th>\n",
       "      <th>PC10</th>\n",
       "      <th>PC11</th>\n",
       "      <th>PC12</th>\n",
       "      <th>PC13</th>\n",
       "    </tr>\n",
       "  </thead>\n",
       "  <tbody>\n",
       "    <tr>\n",
       "      <th>0</th>\n",
       "      <td>84.116057</td>\n",
       "      <td>1.438020</td>\n",
       "      <td>4.095909</td>\n",
       "      <td>1.352387</td>\n",
       "      <td>1.673727</td>\n",
       "      <td>1.330547</td>\n",
       "      <td>0.081822</td>\n",
       "      <td>-2.174227</td>\n",
       "      <td>-0.489072</td>\n",
       "      <td>-1.274432</td>\n",
       "      <td>0.210284</td>\n",
       "      <td>0.356680</td>\n",
       "      <td>0.138212</td>\n",
       "    </tr>\n",
       "    <tr>\n",
       "      <th>1</th>\n",
       "      <td>84.115718</td>\n",
       "      <td>1.438111</td>\n",
       "      <td>4.095989</td>\n",
       "      <td>1.350413</td>\n",
       "      <td>1.673100</td>\n",
       "      <td>1.333865</td>\n",
       "      <td>0.079198</td>\n",
       "      <td>-2.178341</td>\n",
       "      <td>-0.488601</td>\n",
       "      <td>-1.278249</td>\n",
       "      <td>0.208187</td>\n",
       "      <td>0.359327</td>\n",
       "      <td>0.136649</td>\n",
       "    </tr>\n",
       "    <tr>\n",
       "      <th>2</th>\n",
       "      <td>84.113849</td>\n",
       "      <td>1.441751</td>\n",
       "      <td>4.094484</td>\n",
       "      <td>1.350508</td>\n",
       "      <td>1.673621</td>\n",
       "      <td>1.339623</td>\n",
       "      <td>0.083034</td>\n",
       "      <td>-2.168170</td>\n",
       "      <td>-0.480650</td>\n",
       "      <td>-1.281993</td>\n",
       "      <td>0.211748</td>\n",
       "      <td>0.349874</td>\n",
       "      <td>0.142439</td>\n",
       "    </tr>\n",
       "    <tr>\n",
       "      <th>3</th>\n",
       "      <td>84.121272</td>\n",
       "      <td>1.421070</td>\n",
       "      <td>4.100450</td>\n",
       "      <td>1.357883</td>\n",
       "      <td>1.670761</td>\n",
       "      <td>1.303154</td>\n",
       "      <td>0.071546</td>\n",
       "      <td>-2.192907</td>\n",
       "      <td>-0.506623</td>\n",
       "      <td>-1.249669</td>\n",
       "      <td>0.199242</td>\n",
       "      <td>0.387746</td>\n",
       "      <td>0.122258</td>\n",
       "    </tr>\n",
       "    <tr>\n",
       "      <th>4</th>\n",
       "      <td>84.115342</td>\n",
       "      <td>1.432328</td>\n",
       "      <td>4.095080</td>\n",
       "      <td>1.351093</td>\n",
       "      <td>1.674326</td>\n",
       "      <td>1.328196</td>\n",
       "      <td>0.073246</td>\n",
       "      <td>-2.179401</td>\n",
       "      <td>-0.486842</td>\n",
       "      <td>-1.267505</td>\n",
       "      <td>0.204762</td>\n",
       "      <td>0.367833</td>\n",
       "      <td>0.131405</td>\n",
       "    </tr>\n",
       "  </tbody>\n",
       "</table>\n",
       "</div>"
      ],
      "text/plain": [
       "         PC1       PC2       PC3       PC4       PC5       PC6       PC7  \\\n",
       "0  84.116057  1.438020  4.095909  1.352387  1.673727  1.330547  0.081822   \n",
       "1  84.115718  1.438111  4.095989  1.350413  1.673100  1.333865  0.079198   \n",
       "2  84.113849  1.441751  4.094484  1.350508  1.673621  1.339623  0.083034   \n",
       "3  84.121272  1.421070  4.100450  1.357883  1.670761  1.303154  0.071546   \n",
       "4  84.115342  1.432328  4.095080  1.351093  1.674326  1.328196  0.073246   \n",
       "\n",
       "        PC8       PC9      PC10      PC11      PC12      PC13  \n",
       "0 -2.174227 -0.489072 -1.274432  0.210284  0.356680  0.138212  \n",
       "1 -2.178341 -0.488601 -1.278249  0.208187  0.359327  0.136649  \n",
       "2 -2.168170 -0.480650 -1.281993  0.211748  0.349874  0.142439  \n",
       "3 -2.192907 -0.506623 -1.249669  0.199242  0.387746  0.122258  \n",
       "4 -2.179401 -0.486842 -1.267505  0.204762  0.367833  0.131405  "
      ]
     },
     "execution_count": 135,
     "metadata": {},
     "output_type": "execute_result"
    }
   ],
   "source": [
    "df_data_PCA.head()"
   ]
  },
  {
   "cell_type": "markdown",
   "id": "21776121-7ea3-43f3-8d8f-ae1b35490f77",
   "metadata": {
    "tags": []
   },
   "source": [
    "<div style=\"background-color: #506AB9;\" >\n",
    "    <h2 style=\"margin: auto; padding: 20px; color:#fff; \">3. Clustering Modelisation</h2>\n",
    "</div>"
   ]
  },
  {
   "cell_type": "code",
   "execution_count": 136,
   "id": "ed2dc50c-6fc1-4282-ada2-dc0208feeb60",
   "metadata": {},
   "outputs": [],
   "source": [
    "from sklearn.cluster import KMeans"
   ]
  },
  {
   "cell_type": "code",
   "execution_count": 137,
   "id": "309f2825-ed90-4311-8edc-777df087ce53",
   "metadata": {},
   "outputs": [],
   "source": [
    "model = KMeans()"
   ]
  },
  {
   "cell_type": "code",
   "execution_count": 138,
   "id": "015fd903-ef78-400b-adfa-d53dedb3fe1b",
   "metadata": {},
   "outputs": [],
   "source": [
    "label  = model.fit_predict(df_data_PCA)"
   ]
  },
  {
   "cell_type": "code",
   "execution_count": 139,
   "id": "b22909ed-a89c-493a-81b0-ebb4edea4b6e",
   "metadata": {},
   "outputs": [],
   "source": [
    "centroids = model.cluster_centers_\n",
    "u_labels = np.unique(label)"
   ]
  },
  {
   "cell_type": "code",
   "execution_count": 140,
   "id": "81a1bc95-e646-4b4d-a82e-0ff56576a84a",
   "metadata": {},
   "outputs": [
    {
     "data": {
      "image/png": "[encoded data removed]",
      "text/plain": [
       "<Figure size 720x720 with 1 Axes>"
      ]
     },
     "metadata": {},
     "output_type": "display_data"
    }
   ],
   "source": [
    "# Graphical representation\n",
    "plt.figure(figsize=(10, 10))\n",
    "for i in u_labels:\n",
    "    plt.scatter(df_data_PCA.iloc[label==i, 0], df_data_PCA.iloc[label==i, 1], label = i)\n",
    "plt.scatter(centroids[:, 0], centroids[:,1], s=80, alpha=0.8, color='k')\n",
    "plt.legend()\n",
    "plt.title('Représentation des clusters du K-Means')\n",
    "plt.show()"
   ]
  },
  {
   "cell_type": "markdown",
   "id": "1b49237e-5936-4119-9fbb-731cffbb31a5",
   "metadata": {},
   "source": [
    "<div style=\"background-color: #6D83C5;\" >\n",
    "    <h3 style=\"margin: auto; padding: 20px; color:#fff; \">3.1. K-means</h3>\n",
    "</div>"
   ]
  },
  {
   "cell_type": "markdown",
   "id": "d6f35ea6-4ad8-46da-a9e1-1e7f9a86bcc1",
   "metadata": {
    "tags": []
   },
   "source": [
    "<div class=\"alert alert-block alert-info\">\n",
    "    First of all, we are going to work on deafult mode for the model\n",
    "</div>"
   ]
  },
  {
   "cell_type": "code",
   "execution_count": null,
   "id": "4f92ebe9-b941-4fb0-b7d7-5dd2b92be71e",
   "metadata": {},
   "outputs": [],
   "source": []
  },
  {
   "cell_type": "code",
   "execution_count": null,
   "id": "c2de3bba-7175-497d-8c90-e59d4b33c625",
   "metadata": {},
   "outputs": [],
   "source": []
  },
  {
   "cell_type": "markdown",
   "id": "51e22a78-938d-406d-bc29-77767f83b440",
   "metadata": {},
   "source": [
    "- forma\n",
    "    -- centroide??\n",
    "        -- homogeneidad\n",
    "        -- Separacion de cluster -- SKL=\n",
    "         union --> index davies bouldin\n",
    "         silhouette -> escoger la cantidad de cluster y ver la estabilidad\n",
    "- estabilidad\n",
    "- coherencia\n",
    "\n",
    "\n",
    "- ARI, pour Adjusted Rand Index"
   ]
  },
  {
   "cell_type": "markdown",
   "id": "63f8498a-2cfb-4e58-b44e-5cc9d295ed7c",
   "metadata": {
    "tags": []
   },
   "source": [
    "<div style=\"background-color: #6D83C5;\" >\n",
    "    <h1 style=\"margin: auto; padding: 20px; color:#fff; \">------------------------------------------</h1>\n",
    "</div>"
   ]
  },
  {
   "cell_type": "markdown",
   "id": "b68208d7-3906-40b2-bab9-698766dc5b5b",
   "metadata": {
    "tags": []
   },
   "source": [
    "<div class=\"alert alert-block alert-danger\">\n",
    "    <p><b>Flag position</b></p>\n",
    "</div>"
   ]
  },
  {
   "cell_type": "code",
   "execution_count": 4,
   "id": "35abb369-e30b-40b8-8702-eca98a5dab34",
   "metadata": {},
   "outputs": [
    {
     "ename": "SystemExit",
     "evalue": "Stop right there!",
     "output_type": "error",
     "traceback": [
      "An exception has occurred, use %tb to see the full traceback.\n",
      "\u001b[1;31mSystemExit\u001b[0m\u001b[1;31m:\u001b[0m Stop right there!\n"
     ]
    },
    {
     "name": "stderr",
     "output_type": "stream",
     "text": [
      "C:\\Users\\Samir\\anaconda3\\lib\\site-packages\\IPython\\core\\interactiveshell.py:3445: UserWarning: To exit: use 'exit', 'quit', or Ctrl-D.\n",
      "  warn(\"To exit: use 'exit', 'quit', or Ctrl-D.\", stacklevel=1)\n"
     ]
    }
   ],
   "source": [
    "raise SystemExit(\"Stop right there!\")"
   ]
  },
  {
   "cell_type": "markdown",
   "id": "791437d8-db9c-4dd1-b878-413fe4930000",
   "metadata": {},
   "source": [
    "<div class=\"alert alert-block alert-danger\">\n",
    "    <p><b>Flag position</b></p>\n",
    "</div>"
   ]
  },
  {
   "cell_type": "markdown",
   "id": "f6e92424-9e16-4c6b-b58f-f70ec86a50a7",
   "metadata": {},
   "source": [
    "<div style=\"background-color: #6D83C5;\" >\n",
    "    <h1 style=\"margin: auto; padding: 20px; color:#fff; \">------------------------------------------</h1>\n",
    "</div>"
   ]
  },
  {
   "cell_type": "markdown",
   "id": "8524fae3-a9c6-4c3e-862d-6ec09216ae17",
   "metadata": {
    "tags": []
   },
   "source": [
    "<div style=\"background-color: #6D83C5;\" >\n",
    "    <h3 style=\"margin: auto; padding: 20px; color:#fff; \">3.2. Optimization</h3>\n",
    "</div>"
   ]
  },
  {
   "cell_type": "markdown",
   "id": "e14e52a8-c354-45bd-967d-524154d20b37",
   "metadata": {
    "tags": []
   },
   "source": [
    "<div class=\"alert alert-block alert-info\">\n",
    "    List of models to use. for now, in default mode\n",
    "</div>"
   ]
  },
  {
   "cell_type": "code",
   "execution_count": null,
   "id": "ae2ec861-2bd2-4cb9-99c0-a0eb3d8d6f12",
   "metadata": {},
   "outputs": [],
   "source": []
  },
  {
   "cell_type": "code",
   "execution_count": null,
   "id": "3eb212fd-a5f5-4e54-a6a2-b8638d688a78",
   "metadata": {},
   "outputs": [],
   "source": []
  },
  {
   "cell_type": "code",
   "execution_count": null,
   "id": "2413cc0e-1d68-48dd-b028-0a5ae8d59a06",
   "metadata": {},
   "outputs": [],
   "source": []
  },
  {
   "cell_type": "code",
   "execution_count": null,
   "id": "f42dce7c-96ef-4513-acf2-1fb910de7435",
   "metadata": {},
   "outputs": [],
   "source": []
  },
  {
   "cell_type": "code",
   "execution_count": null,
   "id": "d9bc3b4f-3f2b-448f-8542-27066f9d909c",
   "metadata": {},
   "outputs": [],
   "source": []
  },
  {
   "cell_type": "code",
   "execution_count": null,
   "id": "bce960dd-6594-4f0c-8856-28a9c45be18d",
   "metadata": {},
   "outputs": [],
   "source": []
  },
  {
   "cell_type": "code",
   "execution_count": null,
   "id": "1e83e30a-ae5f-4e1e-8605-28731188a8d3",
   "metadata": {},
   "outputs": [],
   "source": []
  },
  {
   "cell_type": "markdown",
   "id": "8ce74173-c3ce-4506-9746-bf377d472957",
   "metadata": {},
   "source": [
    "- Clustering hiérarchique\n",
    "- k-means\n",
    "- DBScan"
   ]
  },
  {
   "cell_type": "code",
   "execution_count": null,
   "id": "3e30ef72-fe9f-42ac-8f10-0dc4eee35432",
   "metadata": {},
   "outputs": [],
   "source": []
  },
  {
   "cell_type": "code",
   "execution_count": null,
   "id": "207571cb-f3d9-4de5-97fe-9e809cc58b49",
   "metadata": {},
   "outputs": [],
   "source": []
  },
  {
   "cell_type": "markdown",
   "id": "55f121c9-d048-43c2-a7ae-6cde844dcac8",
   "metadata": {},
   "source": [
    "https://www.definitions-marketing.com/definition/segmentation-rfm/<br>\n",
    "https://lms.simplilearn.com/courses/4414/Introduction-to-Supervised-&-Unsupervised-Machine-Learning/syllabus<br>\n",
    "\n",
    "https://classroom.udacity.com/courses/st101<br>\n",
    "https://classroom.udacity.com/courses/ud827<br>\n",
    "https://www.freecodecamp.org/news/free-machine-learning-course-10-hourse/<br>\n",
    "\n",
    "https://towardsdatascience.com/10-highly-probable-data-scientist-interview-questions-fd83f7414760<br>"
   ]
  }
 ],
 "metadata": {
  "kernelspec": {
   "display_name": "Python 3",
   "language": "python",
   "name": "python3"
  },
  "language_info": {
   "codemirror_mode": {
    "name": "ipython",
    "version": 3
   },
   "file_extension": ".py",
   "mimetype": "text/x-python",
   "name": "python",
   "nbconvert_exporter": "python",
   "pygments_lexer": "ipython3",
   "version": "3.8.5"
  }
 },
 "nbformat": 4,
 "nbformat_minor": 5
}
