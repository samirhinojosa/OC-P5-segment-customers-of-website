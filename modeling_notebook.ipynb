{
 "cells": [
  {
   "cell_type": "markdown",
   "id": "d01fb88d-4006-4ba6-b30d-d1f8f74600eb",
   "metadata": {},
   "source": [
    "<div style=\"display: flex; background-color: #3F579F;\">\n",
    "    <h1 style=\"margin: auto; font-weight: bold; padding: 30px 30px 0px 30px;\" align=\"center\">Segment customers of a website - P5</h1>\n",
    "</div>\n",
    "<div style=\"display: flex; background-color: #3F579F; margin: auto; padding: 5px 30px 0px 30px;\" >\n",
    "    <h3 style=\"width: 100%; text-align: center; float: left; font-size: 24px;\" align=\"center\">| Modeling notebook |</h3>\n",
    "</div>\n",
    "<div style=\"display: flex; background-color: #3F579F; margin: auto; padding: 10px 30px 30px 30px;\">\n",
    "    <h4 style=\"width: 100%; text-align: center; float: left; font-size: 24px;\" align=\"center\">Data Scientist course - OpenClassrooms</h4>\n",
    "</div>"
   ]
  },
  {
   "cell_type": "markdown",
   "id": "4dbce629-1449-4c34-8104-26c86c4ad6c8",
   "metadata": {
    "tags": []
   },
   "source": [
    "<div style=\"background-color: #506AB9;\" >\n",
    "    <h2 style=\"margin: auto; padding: 20px; color:#fff; \">1. Libraries and functions</h2>\n",
    "</div>"
   ]
  },
  {
   "cell_type": "markdown",
   "id": "bb589b76-9cbc-4a11-be10-30ce9ad7fc8f",
   "metadata": {},
   "source": [
    "<div style=\"background-color: #6D83C5;\" >\n",
    "    <h3 style=\"margin: auto; padding: 20px; color:#fff; \">1.1. Libraries and functions</h3>\n",
    "</div>"
   ]
  },
  {
   "cell_type": "code",
   "execution_count": 2,
   "id": "d71c1574-0703-4677-8ed7-6a9ef6df38e3",
   "metadata": {},
   "outputs": [],
   "source": [
    "## General\n",
    "import pandas as pd\n",
    "import numpy as np\n",
    "import matplotlib.pyplot as plt\n",
    "import seaborn as sns\n",
    "import plotly.express as px\n",
    "import squarify\n",
    "from statsmodels.graphics.gofplots import qqplot\n",
    "\n",
    "## df_analysis\n",
    "import io\n",
    "import gc\n",
    "import timeit\n",
    "import math\n",
    "from math import pi\n",
    "from collections import Counter\n",
    "from math import prod\n",
    "import scipy.stats as stats\n",
    "\n",
    "## Scikit Learn \n",
    "from sklearn.preprocessing import StandardScaler, RobustScaler, OrdinalEncoder\n",
    "from sklearn.pipeline import make_pipeline\n",
    "from sklearn.compose import make_column_transformer\n",
    "from sklearn import decomposition\n",
    "from sklearn.decomposition import PCA\n",
    "from sklearn.cluster import KMeans\n",
    "\n",
    "## Yellowbrick - Scikit Learn \n",
    "from yellowbrick.cluster import KElbowVisualizer\n",
    "\n",
    "# Own specific functions \n",
    "from functions import *\n",
    "\n",
    "%matplotlib inline\n",
    "sns.set_theme(style=\"darkgrid\")"
   ]
  },
  {
   "cell_type": "markdown",
   "id": "4f65671d-f05c-4c4f-b118-554474e3f963",
   "metadata": {},
   "source": [
    "<div style=\"background-color: #6D83C5;\" >\n",
    "    <h3 style=\"margin: auto; padding: 20px; color:#fff; \">1.2. Functions declaration</h3>\n",
    "</div>"
   ]
  },
  {
   "cell_type": "code",
   "execution_count": 3,
   "id": "22fdae4c-c19b-4819-9172-33a6c5d66953",
   "metadata": {},
   "outputs": [],
   "source": [
    "def df_analysis(df, name_df, *args, **kwargs):\n",
    "    \"\"\"\n",
    "    Method used to analyze on the DataFrame.\n",
    "\n",
    "    Parameters:\n",
    "    -----------------\n",
    "        df (pandas.DataFrame): Dataset to analyze\n",
    "        name_df (str): Dataset name\n",
    "        \n",
    "        *args, **kwargs:\n",
    "        -----------------\n",
    "            columns (list): Dataframe keys in list format\n",
    "            flag (str): Flag to show complete information about the dataset to analyse\n",
    "                        \"complete\" shows all information about the dataset\n",
    "\n",
    "    Returns:\n",
    "    -----------------\n",
    "        None. \n",
    "        Print the analysis on the Dataset. \n",
    "    \"\"\"\n",
    "    \n",
    "    # Getting the variables\n",
    "    columns = kwargs.get(\"columns\", None)\n",
    "    type_analysis = kwargs.get(\"type_analysis\", None)\n",
    "    \n",
    "    ORDERING_COMPLETE = [\n",
    "        \"name\", \"type\", \"records\", \"unique\", \"# NaN\", \"% NaN\", \"mean\", \"min\", \"25%\", \"50%\", \"75%\", \"max\", \"std\"\n",
    "    ]\n",
    "    \n",
    "    # Calculating the memory usage based on dataframe.info()\n",
    "    buf = io.StringIO()\n",
    "    df.info(buf=buf)\n",
    "    memory_usage = buf.getvalue().split('\\n')[-2]\n",
    "    \n",
    "    if df.empty:\n",
    "        print(\"The\", name_df, \"dataset is empty. Please verify the file.\")\n",
    "    else:\n",
    "        empty_cols = [col for col in df.columns if df[col].isna().all()] # identifying empty columns\n",
    "        df_rows_duplicates = df[df.duplicated()] #identifying full duplicates rows\n",
    "        \n",
    "        # Creating a dataset based on Type object and records by columns\n",
    "        type_cols = df.dtypes.apply(lambda x: x.name).to_dict() \n",
    "        df_resume = pd.DataFrame(list(type_cols.items()), columns = [\"name\", \"type\"])\n",
    "        df_resume[\"records\"] = list(df.count())\n",
    "        df_resume[\"# NaN\"] = list(df.isnull().sum())\n",
    "        df_resume[\"% NaN\"] = list(((df.isnull().sum() / len(df.index))*100).round(2))\n",
    "        \n",
    "        print(\"\\nAnalysis of\", name_df, \"dataset\")\n",
    "        print(\"--------------------------------------------------------------------\")\n",
    "        print(\"- Dataset shape:                 \", df.shape[0], \"rows and\", df.shape[1], \"columns\")\n",
    "        print(\"- Total of NaN values:           \", df.isna().sum().sum())\n",
    "        print(\"- Percentage of NaN:             \", round((df.isna().sum().sum() / prod(df.shape)) * 100, 2), \"%\")\n",
    "        print(\"- Total of full duplicates rows: \", df_rows_duplicates.shape[0])\n",
    "        print(\"- Total of empty rows:           \", df.shape[0] - df.dropna(axis=\"rows\", how=\"all\").shape[0]) if df.dropna(axis=\"rows\", how=\"all\").shape[0] < df.shape[0] else \\\n",
    "                    print(\"- Total of empty rows:            0\")\n",
    "        print(\"- Total of empty columns:        \", len(empty_cols))\n",
    "        print(\"  + The empty column is:         \", empty_cols) if len(empty_cols) == 1 else \\\n",
    "                    print(\"  + The empty column are:         \", empty_cols) if len(empty_cols) >= 1 else None\n",
    "        print(\"- Unique indexes:                \", df.index.is_unique)\n",
    "        \n",
    "        if columns is not None:\n",
    "            print(\"\\n- The key(s):\", columns, \"is not present multiple times in the dataframe.\\n  It CAN be used as a primary key.\") if df.size == df.drop_duplicates(columns).size else \\\n",
    "                print(\"\\n- The key(s):\", columns, \"is present multiple times in the dataframe.\\n  It CANNOT be used as a primary key.\")\n",
    "            \n",
    "        if type_analysis == \"summarized\":\n",
    "            print(\"\\n\")\n",
    "        \n",
    "        if type_analysis is None or type_analysis != \"summarized\":\n",
    "            pd.set_option(\"display.max_rows\", None) # show full of showing rows\n",
    "            pd.set_option(\"display.max_columns\", None) # show full of showing cols\n",
    "            pd.set_option(\"display.max_colwidth\", None) # show full width of showing cols\n",
    "            pd.set_option(\"display.float_format\", lambda x: \"%.5f\" % x) # show full content in cell    \n",
    "            \n",
    "            if type_analysis is None or type_analysis != \"complete\":\n",
    "                print(\"\\n- Type object and records by columns      (\",memory_usage,\")\")\n",
    "                print(\"--------------------------------------------------------------------\")\n",
    "            elif type_analysis == \"complete\" and (df.select_dtypes([\"int64\"]).shape[1] > 0 or df.select_dtypes([\"float64\"]).shape[1] > 0):\n",
    "                df_resume[\"unique\"] = list(df.nunique())\n",
    "                df_desc = pd.DataFrame(df.describe().T).reset_index()\n",
    "                df_desc = df_desc.rename(columns={\"index\": \"name\"})\n",
    "                df_resume = df_resume.merge(right=df_desc[[\"name\", \"mean\", \"min\", \"25%\", \"50%\", \"75%\", \"max\", \"std\"]], on=\"name\", how=\"left\")\n",
    "                df_resume = df_resume[ORDERING_COMPLETE]\n",
    "                print(\"\\n- Type object and records by columns      (\",memory_usage,\")\")\n",
    "                print(\"--------------------------------------------------------------------\")\n",
    "            \n",
    "            display(df_resume.sort_values(\"records\", ascending=False))\n",
    "            \n",
    "            pd.reset_option(\"display.max_rows\") # reset max of showing rows\n",
    "            pd.reset_option(\"display.max_columns\") # reset max of showing cols\n",
    "            pd.reset_option(\"display.max_colwidth\") # reset width of showing cols\n",
    "            pd.reset_option(\"display.float_format\") # reset show full content in cell\n",
    "            \n",
    "        # deleting dataframe to free memory\n",
    "        if type_analysis == \"complete\":\n",
    "            \n",
    "            if df.select_dtypes([\"int64\"]).shape[1] > 0 or df.select_dtypes([\"float64\"]).shape[1] > 0:\n",
    "                del [[df_resume, df_desc]]\n",
    "            else:\n",
    "                del [[df_resume]]\n",
    "            \n",
    "            gc.collect()\n",
    "            df_resume, df_desc = (pd.DataFrame() for i in range(2))\n",
    "        else:\n",
    "            del df_resume\n",
    "            gc.collect()\n",
    "            df_resume = pd.DataFrame()"
   ]
  },
  {
   "cell_type": "markdown",
   "id": "d621c45b-b0db-4d5b-a264-bd187290da69",
   "metadata": {
    "tags": []
   },
   "source": [
    "<div style=\"background-color: #506AB9;\" >\n",
    "    <h2 style=\"margin: auto; padding: 20px; color:#fff; \">2. Importing files</h2>\n",
    "</div>"
   ]
  },
  {
   "cell_type": "markdown",
   "id": "0318ea4a-838b-4b43-8c7b-29ca87a405a3",
   "metadata": {},
   "source": [
    "<div style=\"background-color: #6D83C5;\" >\n",
    "    <h3 style=\"margin: auto; padding: 20px; color:#fff; \">2.1. Importing and preparing files</h3>\n",
    "</div>"
   ]
  },
  {
   "cell_type": "markdown",
   "id": "6d5fe558-77e9-4fcd-85d5-f53b89590e27",
   "metadata": {
    "tags": []
   },
   "source": [
    "<div class=\"alert alert-block alert-info\">\n",
    "    We are going to load the dateset resulting from the PCA\n",
    "</div>"
   ]
  },
  {
   "cell_type": "code",
   "execution_count": 4,
   "id": "2a35949f-64a0-4604-92fe-402f106a8e2b",
   "metadata": {
    "tags": []
   },
   "outputs": [],
   "source": [
    "df_data = pd.read_csv(r\"datasets\\data_to_model.csv\")"
   ]
  },
  {
   "cell_type": "code",
   "execution_count": 5,
   "id": "9e8e5b97-8002-4d98-b8a6-20843973e25c",
   "metadata": {},
   "outputs": [
    {
     "data": {
      "text/html": [
       "<div>\n",
       "<style scoped>\n",
       "    .dataframe tbody tr th:only-of-type {\n",
       "        vertical-align: middle;\n",
       "    }\n",
       "\n",
       "    .dataframe tbody tr th {\n",
       "        vertical-align: top;\n",
       "    }\n",
       "\n",
       "    .dataframe thead th {\n",
       "        text-align: right;\n",
       "    }\n",
       "</style>\n",
       "<table border=\"1\" class=\"dataframe\">\n",
       "  <thead>\n",
       "    <tr style=\"text-align: right;\">\n",
       "      <th></th>\n",
       "      <th>customer_unique_id</th>\n",
       "      <th>recency</th>\n",
       "      <th>frequency</th>\n",
       "      <th>avg_basket</th>\n",
       "      <th>satisfaction</th>\n",
       "      <th>rfm_score_label</th>\n",
       "      <th>bed_bath_table</th>\n",
       "      <th>health_beauty</th>\n",
       "      <th>sports_leisure</th>\n",
       "      <th>computers_accessories</th>\n",
       "      <th>...</th>\n",
       "      <th>telephony</th>\n",
       "      <th>toys</th>\n",
       "      <th>cool_stuff</th>\n",
       "      <th>perfumery</th>\n",
       "      <th>baby</th>\n",
       "      <th>stationery</th>\n",
       "      <th>electronics</th>\n",
       "      <th>others</th>\n",
       "      <th>avg_product_weight_g_total</th>\n",
       "      <th>avg_product_volume_cc_total</th>\n",
       "    </tr>\n",
       "  </thead>\n",
       "  <tbody>\n",
       "    <tr>\n",
       "      <th>0</th>\n",
       "      <td>dc4b0942fb780633d44f4f73ff69dd92</td>\n",
       "      <td>6</td>\n",
       "      <td>1</td>\n",
       "      <td>5.265287</td>\n",
       "      <td>5.0</td>\n",
       "      <td>New Customers</td>\n",
       "      <td>0.0</td>\n",
       "      <td>0.0</td>\n",
       "      <td>0.0</td>\n",
       "      <td>0.0</td>\n",
       "      <td>...</td>\n",
       "      <td>0.0</td>\n",
       "      <td>0.0</td>\n",
       "      <td>0.0</td>\n",
       "      <td>0.0</td>\n",
       "      <td>0.0</td>\n",
       "      <td>0.0</td>\n",
       "      <td>0.0</td>\n",
       "      <td>100.0</td>\n",
       "      <td>7.357552</td>\n",
       "      <td>87.970157</td>\n",
       "    </tr>\n",
       "    <tr>\n",
       "      <th>1</th>\n",
       "      <td>11ccf36669e0483ac53abfeb566679b6</td>\n",
       "      <td>7</td>\n",
       "      <td>1</td>\n",
       "      <td>6.099716</td>\n",
       "      <td>5.0</td>\n",
       "      <td>New Customers</td>\n",
       "      <td>0.0</td>\n",
       "      <td>0.0</td>\n",
       "      <td>0.0</td>\n",
       "      <td>0.0</td>\n",
       "      <td>...</td>\n",
       "      <td>0.0</td>\n",
       "      <td>0.0</td>\n",
       "      <td>0.0</td>\n",
       "      <td>0.0</td>\n",
       "      <td>0.0</td>\n",
       "      <td>0.0</td>\n",
       "      <td>0.0</td>\n",
       "      <td>100.0</td>\n",
       "      <td>8.233620</td>\n",
       "      <td>53.368679</td>\n",
       "    </tr>\n",
       "    <tr>\n",
       "      <th>2</th>\n",
       "      <td>2fc09b16746a702ba0aab85c6a9a7438</td>\n",
       "      <td>11</td>\n",
       "      <td>1</td>\n",
       "      <td>4.418190</td>\n",
       "      <td>5.0</td>\n",
       "      <td>New Customers</td>\n",
       "      <td>0.0</td>\n",
       "      <td>0.0</td>\n",
       "      <td>0.0</td>\n",
       "      <td>0.0</td>\n",
       "      <td>...</td>\n",
       "      <td>0.0</td>\n",
       "      <td>0.0</td>\n",
       "      <td>0.0</td>\n",
       "      <td>0.0</td>\n",
       "      <td>0.0</td>\n",
       "      <td>0.0</td>\n",
       "      <td>0.0</td>\n",
       "      <td>100.0</td>\n",
       "      <td>7.971544</td>\n",
       "      <td>36.166672</td>\n",
       "    </tr>\n",
       "    <tr>\n",
       "      <th>3</th>\n",
       "      <td>4ecdb958c2b1b099ed5e56d9ca156773</td>\n",
       "      <td>13</td>\n",
       "      <td>1</td>\n",
       "      <td>8.197856</td>\n",
       "      <td>5.0</td>\n",
       "      <td>Promising</td>\n",
       "      <td>0.0</td>\n",
       "      <td>0.0</td>\n",
       "      <td>0.0</td>\n",
       "      <td>0.0</td>\n",
       "      <td>...</td>\n",
       "      <td>0.0</td>\n",
       "      <td>0.0</td>\n",
       "      <td>0.0</td>\n",
       "      <td>0.0</td>\n",
       "      <td>0.0</td>\n",
       "      <td>0.0</td>\n",
       "      <td>0.0</td>\n",
       "      <td>100.0</td>\n",
       "      <td>12.803929</td>\n",
       "      <td>129.095850</td>\n",
       "    </tr>\n",
       "    <tr>\n",
       "      <th>4</th>\n",
       "      <td>164b46961e3ef442750fed496929369f</td>\n",
       "      <td>13</td>\n",
       "      <td>1</td>\n",
       "      <td>7.128768</td>\n",
       "      <td>5.0</td>\n",
       "      <td>Promising</td>\n",
       "      <td>0.0</td>\n",
       "      <td>0.0</td>\n",
       "      <td>0.0</td>\n",
       "      <td>0.0</td>\n",
       "      <td>...</td>\n",
       "      <td>0.0</td>\n",
       "      <td>0.0</td>\n",
       "      <td>0.0</td>\n",
       "      <td>0.0</td>\n",
       "      <td>0.0</td>\n",
       "      <td>0.0</td>\n",
       "      <td>0.0</td>\n",
       "      <td>100.0</td>\n",
       "      <td>8.647458</td>\n",
       "      <td>65.014023</td>\n",
       "    </tr>\n",
       "  </tbody>\n",
       "</table>\n",
       "<p>5 rows × 25 columns</p>\n",
       "</div>"
      ],
      "text/plain": [
       "                 customer_unique_id  recency  frequency  avg_basket  \\\n",
       "0  dc4b0942fb780633d44f4f73ff69dd92        6          1    5.265287   \n",
       "1  11ccf36669e0483ac53abfeb566679b6        7          1    6.099716   \n",
       "2  2fc09b16746a702ba0aab85c6a9a7438       11          1    4.418190   \n",
       "3  4ecdb958c2b1b099ed5e56d9ca156773       13          1    8.197856   \n",
       "4  164b46961e3ef442750fed496929369f       13          1    7.128768   \n",
       "\n",
       "   satisfaction rfm_score_label  bed_bath_table  health_beauty  \\\n",
       "0           5.0   New Customers             0.0            0.0   \n",
       "1           5.0   New Customers             0.0            0.0   \n",
       "2           5.0   New Customers             0.0            0.0   \n",
       "3           5.0       Promising             0.0            0.0   \n",
       "4           5.0       Promising             0.0            0.0   \n",
       "\n",
       "   sports_leisure  computers_accessories  ...  telephony  toys  cool_stuff  \\\n",
       "0             0.0                    0.0  ...        0.0   0.0         0.0   \n",
       "1             0.0                    0.0  ...        0.0   0.0         0.0   \n",
       "2             0.0                    0.0  ...        0.0   0.0         0.0   \n",
       "3             0.0                    0.0  ...        0.0   0.0         0.0   \n",
       "4             0.0                    0.0  ...        0.0   0.0         0.0   \n",
       "\n",
       "   perfumery  baby  stationery  electronics  others  \\\n",
       "0        0.0   0.0         0.0          0.0   100.0   \n",
       "1        0.0   0.0         0.0          0.0   100.0   \n",
       "2        0.0   0.0         0.0          0.0   100.0   \n",
       "3        0.0   0.0         0.0          0.0   100.0   \n",
       "4        0.0   0.0         0.0          0.0   100.0   \n",
       "\n",
       "   avg_product_weight_g_total  avg_product_volume_cc_total  \n",
       "0                    7.357552                    87.970157  \n",
       "1                    8.233620                    53.368679  \n",
       "2                    7.971544                    36.166672  \n",
       "3                   12.803929                   129.095850  \n",
       "4                    8.647458                    65.014023  \n",
       "\n",
       "[5 rows x 25 columns]"
      ]
     },
     "execution_count": 5,
     "metadata": {},
     "output_type": "execute_result"
    }
   ],
   "source": [
    "df_data.head()"
   ]
  },
  {
   "cell_type": "markdown",
   "id": "c64889c5-fd0f-4369-97d7-493cb19fa208",
   "metadata": {
    "tags": []
   },
   "source": [
    "<div style=\"background-color: #506AB9;\" >\n",
    "    <h2 style=\"margin: auto; padding: 20px; color:#fff; \">3. Dimensionality Reduction</h2>\n",
    "</div>"
   ]
  },
  {
   "cell_type": "markdown",
   "id": "a058dda4-6b0a-4228-9e17-60721aa8ad73",
   "metadata": {
    "tags": []
   },
   "source": [
    "<div class=\"alert alert-block alert-info\">\n",
    "    <p>For the <b>Dimensionality Reduction</b> we are going to work as follow</p>\n",
    "    <ol>\n",
    "        <li>Selecting the resulting <b>features of RFM</b> to make the modelisations</li>\n",
    "            <ul style=\"list-style-type: disc;\">\n",
    "                <li>recency</li>\n",
    "                <li>frequency</li>\n",
    "                <li>avg_basket</li>\n",
    "                <li>satisfaction</li>\n",
    "                <li>rfm_score_label</li>\n",
    "            </ul> \n",
    "        <li>Making the modelisation with <b>all features</b></li>\n",
    "    </ol> \n",
    "</div>"
   ]
  },
  {
   "cell_type": "code",
   "execution_count": 45,
   "id": "6bf86b0e-f46c-47ec-a04a-74ff5cf8eae2",
   "metadata": {},
   "outputs": [],
   "source": [
    "data_sample_reduced = df_data[[\"recency\", \"frequency\", \"satisfaction\", \"avg_basket\", \"rfm_score_label\"]].copy()\n",
    "data_sample_completed = df_data.drop(\"customer_unique_id\", axis=1).copy()"
   ]
  },
  {
   "cell_type": "code",
   "execution_count": 46,
   "id": "423dcc9f-9e44-4e90-b9b4-f3f9b0ff11e1",
   "metadata": {},
   "outputs": [
    {
     "name": "stdout",
     "output_type": "stream",
     "text": [
      "\n",
      "Analysis of data_sample_reduced dataset\n",
      "--------------------------------------------------------------------\n",
      "- Dataset shape:                  66934 rows and 5 columns\n",
      "- Total of NaN values:            0\n",
      "- Percentage of NaN:              0.0 %\n",
      "- Total of full duplicates rows:  1642\n",
      "- Total of empty rows:            0\n",
      "- Total of empty columns:         0\n",
      "- Unique indexes:                 True\n",
      "\n",
      "- Type object and records by columns      ( memory usage: 2.6+ MB )\n",
      "--------------------------------------------------------------------\n"
     ]
    },
    {
     "data": {
      "text/html": [
       "<div>\n",
       "<style scoped>\n",
       "    .dataframe tbody tr th:only-of-type {\n",
       "        vertical-align: middle;\n",
       "    }\n",
       "\n",
       "    .dataframe tbody tr th {\n",
       "        vertical-align: top;\n",
       "    }\n",
       "\n",
       "    .dataframe thead th {\n",
       "        text-align: right;\n",
       "    }\n",
       "</style>\n",
       "<table border=\"1\" class=\"dataframe\">\n",
       "  <thead>\n",
       "    <tr style=\"text-align: right;\">\n",
       "      <th></th>\n",
       "      <th>name</th>\n",
       "      <th>type</th>\n",
       "      <th>records</th>\n",
       "      <th>unique</th>\n",
       "      <th># NaN</th>\n",
       "      <th>% NaN</th>\n",
       "      <th>mean</th>\n",
       "      <th>min</th>\n",
       "      <th>25%</th>\n",
       "      <th>50%</th>\n",
       "      <th>75%</th>\n",
       "      <th>max</th>\n",
       "      <th>std</th>\n",
       "    </tr>\n",
       "  </thead>\n",
       "  <tbody>\n",
       "    <tr>\n",
       "      <th>0</th>\n",
       "      <td>recency</td>\n",
       "      <td>int64</td>\n",
       "      <td>66934</td>\n",
       "      <td>318</td>\n",
       "      <td>0</td>\n",
       "      <td>0.00000</td>\n",
       "      <td>160.54345</td>\n",
       "      <td>0.00000</td>\n",
       "      <td>84.00000</td>\n",
       "      <td>162.00000</td>\n",
       "      <td>235.00000</td>\n",
       "      <td>320.00000</td>\n",
       "      <td>88.82827</td>\n",
       "    </tr>\n",
       "    <tr>\n",
       "      <th>1</th>\n",
       "      <td>frequency</td>\n",
       "      <td>int64</td>\n",
       "      <td>66934</td>\n",
       "      <td>9</td>\n",
       "      <td>0</td>\n",
       "      <td>0.00000</td>\n",
       "      <td>1.02564</td>\n",
       "      <td>1.00000</td>\n",
       "      <td>1.00000</td>\n",
       "      <td>1.00000</td>\n",
       "      <td>1.00000</td>\n",
       "      <td>10.00000</td>\n",
       "      <td>0.17772</td>\n",
       "    </tr>\n",
       "    <tr>\n",
       "      <th>2</th>\n",
       "      <td>satisfaction</td>\n",
       "      <td>float64</td>\n",
       "      <td>66934</td>\n",
       "      <td>26</td>\n",
       "      <td>0</td>\n",
       "      <td>0.00000</td>\n",
       "      <td>4.07370</td>\n",
       "      <td>1.00000</td>\n",
       "      <td>4.00000</td>\n",
       "      <td>5.00000</td>\n",
       "      <td>5.00000</td>\n",
       "      <td>5.00000</td>\n",
       "      <td>1.35355</td>\n",
       "    </tr>\n",
       "    <tr>\n",
       "      <th>3</th>\n",
       "      <td>avg_basket</td>\n",
       "      <td>float64</td>\n",
       "      <td>66934</td>\n",
       "      <td>26465</td>\n",
       "      <td>0</td>\n",
       "      <td>0.00000</td>\n",
       "      <td>7.51133</td>\n",
       "      <td>3.40463</td>\n",
       "      <td>6.00023</td>\n",
       "      <td>6.81154</td>\n",
       "      <td>7.64593</td>\n",
       "      <td>135.91949</td>\n",
       "      <td>3.42620</td>\n",
       "    </tr>\n",
       "    <tr>\n",
       "      <th>4</th>\n",
       "      <td>rfm_score_label</td>\n",
       "      <td>object</td>\n",
       "      <td>66934</td>\n",
       "      <td>9</td>\n",
       "      <td>0</td>\n",
       "      <td>0.00000</td>\n",
       "      <td>NaN</td>\n",
       "      <td>NaN</td>\n",
       "      <td>NaN</td>\n",
       "      <td>NaN</td>\n",
       "      <td>NaN</td>\n",
       "      <td>NaN</td>\n",
       "      <td>NaN</td>\n",
       "    </tr>\n",
       "  </tbody>\n",
       "</table>\n",
       "</div>"
      ],
      "text/plain": [
       "              name     type  records  unique  # NaN   % NaN      mean     min  \\\n",
       "0          recency    int64    66934     318      0 0.00000 160.54345 0.00000   \n",
       "1        frequency    int64    66934       9      0 0.00000   1.02564 1.00000   \n",
       "2     satisfaction  float64    66934      26      0 0.00000   4.07370 1.00000   \n",
       "3       avg_basket  float64    66934   26465      0 0.00000   7.51133 3.40463   \n",
       "4  rfm_score_label   object    66934       9      0 0.00000       NaN     NaN   \n",
       "\n",
       "       25%       50%       75%       max      std  \n",
       "0 84.00000 162.00000 235.00000 320.00000 88.82827  \n",
       "1  1.00000   1.00000   1.00000  10.00000  0.17772  \n",
       "2  4.00000   5.00000   5.00000   5.00000  1.35355  \n",
       "3  6.00023   6.81154   7.64593 135.91949  3.42620  \n",
       "4      NaN       NaN       NaN       NaN      NaN  "
      ]
     },
     "metadata": {},
     "output_type": "display_data"
    }
   ],
   "source": [
    "df_analysis(data_sample_reduced, \"data_sample_reduced\", type_analysis=\"complete\")"
   ]
  },
  {
   "cell_type": "code",
   "execution_count": 47,
   "id": "4bdf562f-b57c-4e25-ac4b-c02901e654de",
   "metadata": {},
   "outputs": [
    {
     "name": "stdout",
     "output_type": "stream",
     "text": [
      "\n",
      "Analysis of data_sample_completed dataset\n",
      "--------------------------------------------------------------------\n",
      "- Dataset shape:                  66934 rows and 24 columns\n",
      "- Total of NaN values:            0\n",
      "- Percentage of NaN:              0.0 %\n",
      "- Total of full duplicates rows:  870\n",
      "- Total of empty rows:            0\n",
      "- Total of empty columns:         0\n",
      "- Unique indexes:                 True\n",
      "\n",
      "- Type object and records by columns      ( memory usage: 12.3+ MB )\n",
      "--------------------------------------------------------------------\n"
     ]
    },
    {
     "data": {
      "text/html": [
       "<div>\n",
       "<style scoped>\n",
       "    .dataframe tbody tr th:only-of-type {\n",
       "        vertical-align: middle;\n",
       "    }\n",
       "\n",
       "    .dataframe tbody tr th {\n",
       "        vertical-align: top;\n",
       "    }\n",
       "\n",
       "    .dataframe thead th {\n",
       "        text-align: right;\n",
       "    }\n",
       "</style>\n",
       "<table border=\"1\" class=\"dataframe\">\n",
       "  <thead>\n",
       "    <tr style=\"text-align: right;\">\n",
       "      <th></th>\n",
       "      <th>name</th>\n",
       "      <th>type</th>\n",
       "      <th>records</th>\n",
       "      <th>unique</th>\n",
       "      <th># NaN</th>\n",
       "      <th>% NaN</th>\n",
       "      <th>mean</th>\n",
       "      <th>min</th>\n",
       "      <th>25%</th>\n",
       "      <th>50%</th>\n",
       "      <th>75%</th>\n",
       "      <th>max</th>\n",
       "      <th>std</th>\n",
       "    </tr>\n",
       "  </thead>\n",
       "  <tbody>\n",
       "    <tr>\n",
       "      <th>0</th>\n",
       "      <td>recency</td>\n",
       "      <td>int64</td>\n",
       "      <td>66934</td>\n",
       "      <td>318</td>\n",
       "      <td>0</td>\n",
       "      <td>0.00000</td>\n",
       "      <td>160.54345</td>\n",
       "      <td>0.00000</td>\n",
       "      <td>84.00000</td>\n",
       "      <td>162.00000</td>\n",
       "      <td>235.00000</td>\n",
       "      <td>320.00000</td>\n",
       "      <td>88.82827</td>\n",
       "    </tr>\n",
       "    <tr>\n",
       "      <th>1</th>\n",
       "      <td>frequency</td>\n",
       "      <td>int64</td>\n",
       "      <td>66934</td>\n",
       "      <td>9</td>\n",
       "      <td>0</td>\n",
       "      <td>0.00000</td>\n",
       "      <td>1.02564</td>\n",
       "      <td>1.00000</td>\n",
       "      <td>1.00000</td>\n",
       "      <td>1.00000</td>\n",
       "      <td>1.00000</td>\n",
       "      <td>10.00000</td>\n",
       "      <td>0.17772</td>\n",
       "    </tr>\n",
       "    <tr>\n",
       "      <th>22</th>\n",
       "      <td>avg_product_weight_g_total</td>\n",
       "      <td>float64</td>\n",
       "      <td>66934</td>\n",
       "      <td>5363</td>\n",
       "      <td>0</td>\n",
       "      <td>0.00000</td>\n",
       "      <td>9.55170</td>\n",
       "      <td>0.00000</td>\n",
       "      <td>8.15987</td>\n",
       "      <td>9.27146</td>\n",
       "      <td>10.73217</td>\n",
       "      <td>14.87272</td>\n",
       "      <td>1.84174</td>\n",
       "    </tr>\n",
       "    <tr>\n",
       "      <th>21</th>\n",
       "      <td>others</td>\n",
       "      <td>float64</td>\n",
       "      <td>66934</td>\n",
       "      <td>521</td>\n",
       "      <td>0</td>\n",
       "      <td>0.00000</td>\n",
       "      <td>18.66740</td>\n",
       "      <td>0.00000</td>\n",
       "      <td>0.00000</td>\n",
       "      <td>0.00000</td>\n",
       "      <td>0.00000</td>\n",
       "      <td>100.00000</td>\n",
       "      <td>38.72633</td>\n",
       "    </tr>\n",
       "    <tr>\n",
       "      <th>20</th>\n",
       "      <td>electronics</td>\n",
       "      <td>float64</td>\n",
       "      <td>66934</td>\n",
       "      <td>58</td>\n",
       "      <td>0</td>\n",
       "      <td>0.00000</td>\n",
       "      <td>3.08867</td>\n",
       "      <td>0.00000</td>\n",
       "      <td>0.00000</td>\n",
       "      <td>0.00000</td>\n",
       "      <td>0.00000</td>\n",
       "      <td>100.00000</td>\n",
       "      <td>17.24402</td>\n",
       "    </tr>\n",
       "    <tr>\n",
       "      <th>19</th>\n",
       "      <td>stationery</td>\n",
       "      <td>float64</td>\n",
       "      <td>66934</td>\n",
       "      <td>65</td>\n",
       "      <td>0</td>\n",
       "      <td>0.00000</td>\n",
       "      <td>2.66554</td>\n",
       "      <td>0.00000</td>\n",
       "      <td>0.00000</td>\n",
       "      <td>0.00000</td>\n",
       "      <td>0.00000</td>\n",
       "      <td>100.00000</td>\n",
       "      <td>16.03644</td>\n",
       "    </tr>\n",
       "    <tr>\n",
       "      <th>18</th>\n",
       "      <td>baby</td>\n",
       "      <td>float64</td>\n",
       "      <td>66934</td>\n",
       "      <td>114</td>\n",
       "      <td>0</td>\n",
       "      <td>0.00000</td>\n",
       "      <td>2.93127</td>\n",
       "      <td>0.00000</td>\n",
       "      <td>0.00000</td>\n",
       "      <td>0.00000</td>\n",
       "      <td>0.00000</td>\n",
       "      <td>100.00000</td>\n",
       "      <td>16.74907</td>\n",
       "    </tr>\n",
       "    <tr>\n",
       "      <th>17</th>\n",
       "      <td>perfumery</td>\n",
       "      <td>float64</td>\n",
       "      <td>66934</td>\n",
       "      <td>71</td>\n",
       "      <td>0</td>\n",
       "      <td>0.00000</td>\n",
       "      <td>3.03654</td>\n",
       "      <td>0.00000</td>\n",
       "      <td>0.00000</td>\n",
       "      <td>0.00000</td>\n",
       "      <td>0.00000</td>\n",
       "      <td>100.00000</td>\n",
       "      <td>17.08524</td>\n",
       "    </tr>\n",
       "    <tr>\n",
       "      <th>16</th>\n",
       "      <td>cool_stuff</td>\n",
       "      <td>float64</td>\n",
       "      <td>66934</td>\n",
       "      <td>83</td>\n",
       "      <td>0</td>\n",
       "      <td>0.00000</td>\n",
       "      <td>2.97869</td>\n",
       "      <td>0.00000</td>\n",
       "      <td>0.00000</td>\n",
       "      <td>0.00000</td>\n",
       "      <td>0.00000</td>\n",
       "      <td>100.00000</td>\n",
       "      <td>16.91376</td>\n",
       "    </tr>\n",
       "    <tr>\n",
       "      <th>15</th>\n",
       "      <td>toys</td>\n",
       "      <td>float64</td>\n",
       "      <td>66934</td>\n",
       "      <td>101</td>\n",
       "      <td>0</td>\n",
       "      <td>0.00000</td>\n",
       "      <td>3.41995</td>\n",
       "      <td>0.00000</td>\n",
       "      <td>0.00000</td>\n",
       "      <td>0.00000</td>\n",
       "      <td>0.00000</td>\n",
       "      <td>100.00000</td>\n",
       "      <td>18.07461</td>\n",
       "    </tr>\n",
       "    <tr>\n",
       "      <th>14</th>\n",
       "      <td>telephony</td>\n",
       "      <td>float64</td>\n",
       "      <td>66934</td>\n",
       "      <td>77</td>\n",
       "      <td>0</td>\n",
       "      <td>0.00000</td>\n",
       "      <td>4.15586</td>\n",
       "      <td>0.00000</td>\n",
       "      <td>0.00000</td>\n",
       "      <td>0.00000</td>\n",
       "      <td>0.00000</td>\n",
       "      <td>100.00000</td>\n",
       "      <td>19.89095</td>\n",
       "    </tr>\n",
       "    <tr>\n",
       "      <th>13</th>\n",
       "      <td>garden_tools</td>\n",
       "      <td>float64</td>\n",
       "      <td>66934</td>\n",
       "      <td>125</td>\n",
       "      <td>0</td>\n",
       "      <td>0.00000</td>\n",
       "      <td>3.33525</td>\n",
       "      <td>0.00000</td>\n",
       "      <td>0.00000</td>\n",
       "      <td>0.00000</td>\n",
       "      <td>0.00000</td>\n",
       "      <td>100.00000</td>\n",
       "      <td>17.83439</td>\n",
       "    </tr>\n",
       "    <tr>\n",
       "      <th>12</th>\n",
       "      <td>auto</td>\n",
       "      <td>float64</td>\n",
       "      <td>66934</td>\n",
       "      <td>83</td>\n",
       "      <td>0</td>\n",
       "      <td>0.00000</td>\n",
       "      <td>4.36259</td>\n",
       "      <td>0.00000</td>\n",
       "      <td>0.00000</td>\n",
       "      <td>0.00000</td>\n",
       "      <td>0.00000</td>\n",
       "      <td>100.00000</td>\n",
       "      <td>20.35604</td>\n",
       "    </tr>\n",
       "    <tr>\n",
       "      <th>11</th>\n",
       "      <td>housewares</td>\n",
       "      <td>float64</td>\n",
       "      <td>66934</td>\n",
       "      <td>197</td>\n",
       "      <td>0</td>\n",
       "      <td>0.00000</td>\n",
       "      <td>5.89631</td>\n",
       "      <td>0.00000</td>\n",
       "      <td>0.00000</td>\n",
       "      <td>0.00000</td>\n",
       "      <td>0.00000</td>\n",
       "      <td>100.00000</td>\n",
       "      <td>23.41121</td>\n",
       "    </tr>\n",
       "    <tr>\n",
       "      <th>10</th>\n",
       "      <td>watches_gifts</td>\n",
       "      <td>float64</td>\n",
       "      <td>66934</td>\n",
       "      <td>101</td>\n",
       "      <td>0</td>\n",
       "      <td>0.00000</td>\n",
       "      <td>6.39947</td>\n",
       "      <td>0.00000</td>\n",
       "      <td>0.00000</td>\n",
       "      <td>0.00000</td>\n",
       "      <td>0.00000</td>\n",
       "      <td>100.00000</td>\n",
       "      <td>24.40245</td>\n",
       "    </tr>\n",
       "    <tr>\n",
       "      <th>9</th>\n",
       "      <td>furniture_decor</td>\n",
       "      <td>float64</td>\n",
       "      <td>66934</td>\n",
       "      <td>282</td>\n",
       "      <td>0</td>\n",
       "      <td>0.00000</td>\n",
       "      <td>5.93018</td>\n",
       "      <td>0.00000</td>\n",
       "      <td>0.00000</td>\n",
       "      <td>0.00000</td>\n",
       "      <td>0.00000</td>\n",
       "      <td>100.00000</td>\n",
       "      <td>23.40778</td>\n",
       "    </tr>\n",
       "    <tr>\n",
       "      <th>8</th>\n",
       "      <td>computers_accessories</td>\n",
       "      <td>float64</td>\n",
       "      <td>66934</td>\n",
       "      <td>120</td>\n",
       "      <td>0</td>\n",
       "      <td>0.00000</td>\n",
       "      <td>7.01600</td>\n",
       "      <td>0.00000</td>\n",
       "      <td>0.00000</td>\n",
       "      <td>0.00000</td>\n",
       "      <td>0.00000</td>\n",
       "      <td>100.00000</td>\n",
       "      <td>25.46060</td>\n",
       "    </tr>\n",
       "    <tr>\n",
       "      <th>7</th>\n",
       "      <td>sports_leisure</td>\n",
       "      <td>float64</td>\n",
       "      <td>66934</td>\n",
       "      <td>161</td>\n",
       "      <td>0</td>\n",
       "      <td>0.00000</td>\n",
       "      <td>7.50500</td>\n",
       "      <td>0.00000</td>\n",
       "      <td>0.00000</td>\n",
       "      <td>0.00000</td>\n",
       "      <td>0.00000</td>\n",
       "      <td>100.00000</td>\n",
       "      <td>26.24053</td>\n",
       "    </tr>\n",
       "    <tr>\n",
       "      <th>6</th>\n",
       "      <td>health_beauty</td>\n",
       "      <td>float64</td>\n",
       "      <td>66934</td>\n",
       "      <td>160</td>\n",
       "      <td>0</td>\n",
       "      <td>0.00000</td>\n",
       "      <td>9.45401</td>\n",
       "      <td>0.00000</td>\n",
       "      <td>0.00000</td>\n",
       "      <td>0.00000</td>\n",
       "      <td>0.00000</td>\n",
       "      <td>100.00000</td>\n",
       "      <td>29.16121</td>\n",
       "    </tr>\n",
       "    <tr>\n",
       "      <th>5</th>\n",
       "      <td>bed_bath_table</td>\n",
       "      <td>float64</td>\n",
       "      <td>66934</td>\n",
       "      <td>294</td>\n",
       "      <td>0</td>\n",
       "      <td>0.00000</td>\n",
       "      <td>9.15728</td>\n",
       "      <td>0.00000</td>\n",
       "      <td>0.00000</td>\n",
       "      <td>0.00000</td>\n",
       "      <td>0.00000</td>\n",
       "      <td>100.00000</td>\n",
       "      <td>28.65963</td>\n",
       "    </tr>\n",
       "    <tr>\n",
       "      <th>4</th>\n",
       "      <td>rfm_score_label</td>\n",
       "      <td>object</td>\n",
       "      <td>66934</td>\n",
       "      <td>9</td>\n",
       "      <td>0</td>\n",
       "      <td>0.00000</td>\n",
       "      <td>NaN</td>\n",
       "      <td>NaN</td>\n",
       "      <td>NaN</td>\n",
       "      <td>NaN</td>\n",
       "      <td>NaN</td>\n",
       "      <td>NaN</td>\n",
       "      <td>NaN</td>\n",
       "    </tr>\n",
       "    <tr>\n",
       "      <th>3</th>\n",
       "      <td>satisfaction</td>\n",
       "      <td>float64</td>\n",
       "      <td>66934</td>\n",
       "      <td>26</td>\n",
       "      <td>0</td>\n",
       "      <td>0.00000</td>\n",
       "      <td>4.07370</td>\n",
       "      <td>1.00000</td>\n",
       "      <td>4.00000</td>\n",
       "      <td>5.00000</td>\n",
       "      <td>5.00000</td>\n",
       "      <td>5.00000</td>\n",
       "      <td>1.35355</td>\n",
       "    </tr>\n",
       "    <tr>\n",
       "      <th>2</th>\n",
       "      <td>avg_basket</td>\n",
       "      <td>float64</td>\n",
       "      <td>66934</td>\n",
       "      <td>26465</td>\n",
       "      <td>0</td>\n",
       "      <td>0.00000</td>\n",
       "      <td>7.51133</td>\n",
       "      <td>3.40463</td>\n",
       "      <td>6.00023</td>\n",
       "      <td>6.81154</td>\n",
       "      <td>7.64593</td>\n",
       "      <td>135.91949</td>\n",
       "      <td>3.42620</td>\n",
       "    </tr>\n",
       "    <tr>\n",
       "      <th>23</th>\n",
       "      <td>avg_product_volume_cc_total</td>\n",
       "      <td>float64</td>\n",
       "      <td>66934</td>\n",
       "      <td>11264</td>\n",
       "      <td>0</td>\n",
       "      <td>0.00000</td>\n",
       "      <td>81.09594</td>\n",
       "      <td>17.59517</td>\n",
       "      <td>57.79794</td>\n",
       "      <td>75.05204</td>\n",
       "      <td>102.28346</td>\n",
       "      <td>224.29687</td>\n",
       "      <td>32.37182</td>\n",
       "    </tr>\n",
       "  </tbody>\n",
       "</table>\n",
       "</div>"
      ],
      "text/plain": [
       "                           name     type  records  unique  # NaN   % NaN  \\\n",
       "0                       recency    int64    66934     318      0 0.00000   \n",
       "1                     frequency    int64    66934       9      0 0.00000   \n",
       "22   avg_product_weight_g_total  float64    66934    5363      0 0.00000   \n",
       "21                       others  float64    66934     521      0 0.00000   \n",
       "20                  electronics  float64    66934      58      0 0.00000   \n",
       "19                   stationery  float64    66934      65      0 0.00000   \n",
       "18                         baby  float64    66934     114      0 0.00000   \n",
       "17                    perfumery  float64    66934      71      0 0.00000   \n",
       "16                   cool_stuff  float64    66934      83      0 0.00000   \n",
       "15                         toys  float64    66934     101      0 0.00000   \n",
       "14                    telephony  float64    66934      77      0 0.00000   \n",
       "13                 garden_tools  float64    66934     125      0 0.00000   \n",
       "12                         auto  float64    66934      83      0 0.00000   \n",
       "11                   housewares  float64    66934     197      0 0.00000   \n",
       "10                watches_gifts  float64    66934     101      0 0.00000   \n",
       "9               furniture_decor  float64    66934     282      0 0.00000   \n",
       "8         computers_accessories  float64    66934     120      0 0.00000   \n",
       "7                sports_leisure  float64    66934     161      0 0.00000   \n",
       "6                 health_beauty  float64    66934     160      0 0.00000   \n",
       "5                bed_bath_table  float64    66934     294      0 0.00000   \n",
       "4               rfm_score_label   object    66934       9      0 0.00000   \n",
       "3                  satisfaction  float64    66934      26      0 0.00000   \n",
       "2                    avg_basket  float64    66934   26465      0 0.00000   \n",
       "23  avg_product_volume_cc_total  float64    66934   11264      0 0.00000   \n",
       "\n",
       "        mean      min      25%       50%       75%       max      std  \n",
       "0  160.54345  0.00000 84.00000 162.00000 235.00000 320.00000 88.82827  \n",
       "1    1.02564  1.00000  1.00000   1.00000   1.00000  10.00000  0.17772  \n",
       "22   9.55170  0.00000  8.15987   9.27146  10.73217  14.87272  1.84174  \n",
       "21  18.66740  0.00000  0.00000   0.00000   0.00000 100.00000 38.72633  \n",
       "20   3.08867  0.00000  0.00000   0.00000   0.00000 100.00000 17.24402  \n",
       "19   2.66554  0.00000  0.00000   0.00000   0.00000 100.00000 16.03644  \n",
       "18   2.93127  0.00000  0.00000   0.00000   0.00000 100.00000 16.74907  \n",
       "17   3.03654  0.00000  0.00000   0.00000   0.00000 100.00000 17.08524  \n",
       "16   2.97869  0.00000  0.00000   0.00000   0.00000 100.00000 16.91376  \n",
       "15   3.41995  0.00000  0.00000   0.00000   0.00000 100.00000 18.07461  \n",
       "14   4.15586  0.00000  0.00000   0.00000   0.00000 100.00000 19.89095  \n",
       "13   3.33525  0.00000  0.00000   0.00000   0.00000 100.00000 17.83439  \n",
       "12   4.36259  0.00000  0.00000   0.00000   0.00000 100.00000 20.35604  \n",
       "11   5.89631  0.00000  0.00000   0.00000   0.00000 100.00000 23.41121  \n",
       "10   6.39947  0.00000  0.00000   0.00000   0.00000 100.00000 24.40245  \n",
       "9    5.93018  0.00000  0.00000   0.00000   0.00000 100.00000 23.40778  \n",
       "8    7.01600  0.00000  0.00000   0.00000   0.00000 100.00000 25.46060  \n",
       "7    7.50500  0.00000  0.00000   0.00000   0.00000 100.00000 26.24053  \n",
       "6    9.45401  0.00000  0.00000   0.00000   0.00000 100.00000 29.16121  \n",
       "5    9.15728  0.00000  0.00000   0.00000   0.00000 100.00000 28.65963  \n",
       "4        NaN      NaN      NaN       NaN       NaN       NaN      NaN  \n",
       "3    4.07370  1.00000  4.00000   5.00000   5.00000   5.00000  1.35355  \n",
       "2    7.51133  3.40463  6.00023   6.81154   7.64593 135.91949  3.42620  \n",
       "23  81.09594 17.59517 57.79794  75.05204 102.28346 224.29687 32.37182  "
      ]
     },
     "metadata": {},
     "output_type": "display_data"
    }
   ],
   "source": [
    "df_analysis(data_sample_completed, \"data_sample_completed\", type_analysis=\"complete\")"
   ]
  },
  {
   "cell_type": "markdown",
   "id": "e0bab3e7-19cd-4117-92d2-1838cd364cf3",
   "metadata": {
    "tags": []
   },
   "source": [
    "<div style=\"background-color: #6D83C5;\" >\n",
    "    <h3 style=\"margin: auto; padding: 20px; color:#fff; \">3.1. Datapreprocessing</h3>\n",
    "</div>"
   ]
  },
  {
   "cell_type": "markdown",
   "id": "436783c2-9ed6-46ee-aa09-553b099ce294",
   "metadata": {
    "tags": []
   },
   "source": [
    "<div class=\"alert alert-block alert-info\">\n",
    "     <p>We are going to process the features as follows</p>\n",
    "    <p><b>Ordinal features</b><br>\n",
    "    Transforming the feature through OrdinalEncoder</p>\n",
    "    <p><b>Numerical features</b><br>\n",
    "    Normalizing the features through RobustScaler due to all of them do not have a normal distribution and to avoid possibles outliers</p>\n",
    "</div>"
   ]
  },
  {
   "cell_type": "code",
   "execution_count": 61,
   "id": "3f2a3111-23fb-4751-b4d0-623430cb2b0b",
   "metadata": {},
   "outputs": [],
   "source": [
    "DICTIONARY_DFS = {\n",
    "    \"reduced\" : data_sample_reduced,\n",
    "    \"completed\" : data_sample_completed\n",
    "}"
   ]
  },
  {
   "cell_type": "code",
   "execution_count": 64,
   "id": "a1b88f24-4260-4ac0-8ba3-10e98b79695e",
   "metadata": {},
   "outputs": [],
   "source": [
    "for key, value in DICTIONARY_DFS.items():\n",
    "    \n",
    "    NUMERICAL_FEATURES = list(value._get_numeric_data())\n",
    "    ORDINAL_FEATURES = [\"rfm_score_label\"]\n",
    "    \n",
    "    ordinal_pipeline = make_pipeline(OrdinalEncoder(categories=[[\"Lost customers\", \"Hibernating customers\", \"Cannot Lose Them\", \"At Risk\", \"About To Sleep\",\\\n",
    "                                                             \"Need Attention\", \"Promising\", \"New Customers\", \"Potential Loyalist\", \"Loyal\", \"Champions\"]]))\n",
    "    numerical_pipeline = make_pipeline(RobustScaler())\n",
    "    \n",
    "    preprocessor = make_column_transformer(\n",
    "                (ordinal_pipeline, ORDINAL_FEATURES),\n",
    "                (numerical_pipeline, NUMERICAL_FEATURES)\n",
    "    )\n",
    "    \n",
    "    # Droping the real columns and concatenating the encoder columns\n",
    "    globals()[\"sample_scaled_\" + key] = preprocessor.fit_transform(value)\n",
    "    \n",
    "    globals()[\"sample_scaled_\" + key] = pd.DataFrame(globals()[\"sample_scaled_\" + key], index=value.index, columns=value.columns)"
   ]
  },
  {
   "cell_type": "code",
   "execution_count": 67,
   "id": "d36abd1d-0181-4be5-a40b-e9db4c513170",
   "metadata": {},
   "outputs": [
    {
     "data": {
      "text/html": [
       "<div>\n",
       "<style scoped>\n",
       "    .dataframe tbody tr th:only-of-type {\n",
       "        vertical-align: middle;\n",
       "    }\n",
       "\n",
       "    .dataframe tbody tr th {\n",
       "        vertical-align: top;\n",
       "    }\n",
       "\n",
       "    .dataframe thead th {\n",
       "        text-align: right;\n",
       "    }\n",
       "</style>\n",
       "<table border=\"1\" class=\"dataframe\">\n",
       "  <thead>\n",
       "    <tr style=\"text-align: right;\">\n",
       "      <th></th>\n",
       "      <th>recency</th>\n",
       "      <th>frequency</th>\n",
       "      <th>satisfaction</th>\n",
       "      <th>avg_basket</th>\n",
       "      <th>rfm_score_label</th>\n",
       "    </tr>\n",
       "  </thead>\n",
       "  <tbody>\n",
       "    <tr>\n",
       "      <th>0</th>\n",
       "      <td>7.0</td>\n",
       "      <td>-1.033113</td>\n",
       "      <td>0.0</td>\n",
       "      <td>0.0</td>\n",
       "      <td>-0.939567</td>\n",
       "    </tr>\n",
       "    <tr>\n",
       "      <th>1</th>\n",
       "      <td>7.0</td>\n",
       "      <td>-1.026490</td>\n",
       "      <td>0.0</td>\n",
       "      <td>0.0</td>\n",
       "      <td>-0.432532</td>\n",
       "    </tr>\n",
       "    <tr>\n",
       "      <th>2</th>\n",
       "      <td>7.0</td>\n",
       "      <td>-1.000000</td>\n",
       "      <td>0.0</td>\n",
       "      <td>0.0</td>\n",
       "      <td>-1.454300</td>\n",
       "    </tr>\n",
       "    <tr>\n",
       "      <th>3</th>\n",
       "      <td>6.0</td>\n",
       "      <td>-0.986755</td>\n",
       "      <td>0.0</td>\n",
       "      <td>0.0</td>\n",
       "      <td>0.842388</td>\n",
       "    </tr>\n",
       "    <tr>\n",
       "      <th>4</th>\n",
       "      <td>6.0</td>\n",
       "      <td>-0.986755</td>\n",
       "      <td>0.0</td>\n",
       "      <td>0.0</td>\n",
       "      <td>0.192764</td>\n",
       "    </tr>\n",
       "  </tbody>\n",
       "</table>\n",
       "</div>"
      ],
      "text/plain": [
       "   recency  frequency  satisfaction  avg_basket  rfm_score_label\n",
       "0      7.0  -1.033113           0.0         0.0        -0.939567\n",
       "1      7.0  -1.026490           0.0         0.0        -0.432532\n",
       "2      7.0  -1.000000           0.0         0.0        -1.454300\n",
       "3      6.0  -0.986755           0.0         0.0         0.842388\n",
       "4      6.0  -0.986755           0.0         0.0         0.192764"
      ]
     },
     "execution_count": 67,
     "metadata": {},
     "output_type": "execute_result"
    }
   ],
   "source": [
    "sample_scaled_reduced.head()"
   ]
  },
  {
   "cell_type": "code",
   "execution_count": 66,
   "id": "fbef8ae5-6ff8-4fae-adbc-35dffdfd0fb1",
   "metadata": {},
   "outputs": [
    {
     "data": {
      "text/html": [
       "<div>\n",
       "<style scoped>\n",
       "    .dataframe tbody tr th:only-of-type {\n",
       "        vertical-align: middle;\n",
       "    }\n",
       "\n",
       "    .dataframe tbody tr th {\n",
       "        vertical-align: top;\n",
       "    }\n",
       "\n",
       "    .dataframe thead th {\n",
       "        text-align: right;\n",
       "    }\n",
       "</style>\n",
       "<table border=\"1\" class=\"dataframe\">\n",
       "  <thead>\n",
       "    <tr style=\"text-align: right;\">\n",
       "      <th></th>\n",
       "      <th>recency</th>\n",
       "      <th>frequency</th>\n",
       "      <th>avg_basket</th>\n",
       "      <th>satisfaction</th>\n",
       "      <th>rfm_score_label</th>\n",
       "      <th>bed_bath_table</th>\n",
       "      <th>health_beauty</th>\n",
       "      <th>sports_leisure</th>\n",
       "      <th>computers_accessories</th>\n",
       "      <th>furniture_decor</th>\n",
       "      <th>...</th>\n",
       "      <th>telephony</th>\n",
       "      <th>toys</th>\n",
       "      <th>cool_stuff</th>\n",
       "      <th>perfumery</th>\n",
       "      <th>baby</th>\n",
       "      <th>stationery</th>\n",
       "      <th>electronics</th>\n",
       "      <th>others</th>\n",
       "      <th>avg_product_weight_g_total</th>\n",
       "      <th>avg_product_volume_cc_total</th>\n",
       "    </tr>\n",
       "  </thead>\n",
       "  <tbody>\n",
       "    <tr>\n",
       "      <th>0</th>\n",
       "      <td>7.0</td>\n",
       "      <td>-1.033113</td>\n",
       "      <td>0.0</td>\n",
       "      <td>-0.939567</td>\n",
       "      <td>0.0</td>\n",
       "      <td>0.0</td>\n",
       "      <td>0.0</td>\n",
       "      <td>0.0</td>\n",
       "      <td>0.0</td>\n",
       "      <td>0.0</td>\n",
       "      <td>...</td>\n",
       "      <td>0.0</td>\n",
       "      <td>0.0</td>\n",
       "      <td>0.0</td>\n",
       "      <td>0.0</td>\n",
       "      <td>0.0</td>\n",
       "      <td>0.0</td>\n",
       "      <td>0.0</td>\n",
       "      <td>100.0</td>\n",
       "      <td>-0.744048</td>\n",
       "      <td>0.290389</td>\n",
       "    </tr>\n",
       "    <tr>\n",
       "      <th>1</th>\n",
       "      <td>7.0</td>\n",
       "      <td>-1.026490</td>\n",
       "      <td>0.0</td>\n",
       "      <td>-0.432532</td>\n",
       "      <td>0.0</td>\n",
       "      <td>0.0</td>\n",
       "      <td>0.0</td>\n",
       "      <td>0.0</td>\n",
       "      <td>0.0</td>\n",
       "      <td>0.0</td>\n",
       "      <td>...</td>\n",
       "      <td>0.0</td>\n",
       "      <td>0.0</td>\n",
       "      <td>0.0</td>\n",
       "      <td>0.0</td>\n",
       "      <td>0.0</td>\n",
       "      <td>0.0</td>\n",
       "      <td>0.0</td>\n",
       "      <td>100.0</td>\n",
       "      <td>-0.403470</td>\n",
       "      <td>-0.487425</td>\n",
       "    </tr>\n",
       "    <tr>\n",
       "      <th>2</th>\n",
       "      <td>7.0</td>\n",
       "      <td>-1.000000</td>\n",
       "      <td>0.0</td>\n",
       "      <td>-1.454300</td>\n",
       "      <td>0.0</td>\n",
       "      <td>0.0</td>\n",
       "      <td>0.0</td>\n",
       "      <td>0.0</td>\n",
       "      <td>0.0</td>\n",
       "      <td>0.0</td>\n",
       "      <td>...</td>\n",
       "      <td>0.0</td>\n",
       "      <td>0.0</td>\n",
       "      <td>0.0</td>\n",
       "      <td>0.0</td>\n",
       "      <td>0.0</td>\n",
       "      <td>0.0</td>\n",
       "      <td>0.0</td>\n",
       "      <td>100.0</td>\n",
       "      <td>-0.505354</td>\n",
       "      <td>-0.874113</td>\n",
       "    </tr>\n",
       "    <tr>\n",
       "      <th>3</th>\n",
       "      <td>6.0</td>\n",
       "      <td>-0.986755</td>\n",
       "      <td>0.0</td>\n",
       "      <td>0.842388</td>\n",
       "      <td>0.0</td>\n",
       "      <td>0.0</td>\n",
       "      <td>0.0</td>\n",
       "      <td>0.0</td>\n",
       "      <td>0.0</td>\n",
       "      <td>0.0</td>\n",
       "      <td>...</td>\n",
       "      <td>0.0</td>\n",
       "      <td>0.0</td>\n",
       "      <td>0.0</td>\n",
       "      <td>0.0</td>\n",
       "      <td>0.0</td>\n",
       "      <td>0.0</td>\n",
       "      <td>0.0</td>\n",
       "      <td>100.0</td>\n",
       "      <td>1.373274</td>\n",
       "      <td>1.214863</td>\n",
       "    </tr>\n",
       "    <tr>\n",
       "      <th>4</th>\n",
       "      <td>6.0</td>\n",
       "      <td>-0.986755</td>\n",
       "      <td>0.0</td>\n",
       "      <td>0.192764</td>\n",
       "      <td>0.0</td>\n",
       "      <td>0.0</td>\n",
       "      <td>0.0</td>\n",
       "      <td>0.0</td>\n",
       "      <td>0.0</td>\n",
       "      <td>0.0</td>\n",
       "      <td>...</td>\n",
       "      <td>0.0</td>\n",
       "      <td>0.0</td>\n",
       "      <td>0.0</td>\n",
       "      <td>0.0</td>\n",
       "      <td>0.0</td>\n",
       "      <td>0.0</td>\n",
       "      <td>0.0</td>\n",
       "      <td>100.0</td>\n",
       "      <td>-0.242587</td>\n",
       "      <td>-0.225647</td>\n",
       "    </tr>\n",
       "  </tbody>\n",
       "</table>\n",
       "<p>5 rows × 24 columns</p>\n",
       "</div>"
      ],
      "text/plain": [
       "   recency  frequency  avg_basket  satisfaction  rfm_score_label  \\\n",
       "0      7.0  -1.033113         0.0     -0.939567              0.0   \n",
       "1      7.0  -1.026490         0.0     -0.432532              0.0   \n",
       "2      7.0  -1.000000         0.0     -1.454300              0.0   \n",
       "3      6.0  -0.986755         0.0      0.842388              0.0   \n",
       "4      6.0  -0.986755         0.0      0.192764              0.0   \n",
       "\n",
       "   bed_bath_table  health_beauty  sports_leisure  computers_accessories  \\\n",
       "0             0.0            0.0             0.0                    0.0   \n",
       "1             0.0            0.0             0.0                    0.0   \n",
       "2             0.0            0.0             0.0                    0.0   \n",
       "3             0.0            0.0             0.0                    0.0   \n",
       "4             0.0            0.0             0.0                    0.0   \n",
       "\n",
       "   furniture_decor  ...  telephony  toys  cool_stuff  perfumery  baby  \\\n",
       "0              0.0  ...        0.0   0.0         0.0        0.0   0.0   \n",
       "1              0.0  ...        0.0   0.0         0.0        0.0   0.0   \n",
       "2              0.0  ...        0.0   0.0         0.0        0.0   0.0   \n",
       "3              0.0  ...        0.0   0.0         0.0        0.0   0.0   \n",
       "4              0.0  ...        0.0   0.0         0.0        0.0   0.0   \n",
       "\n",
       "   stationery  electronics  others  avg_product_weight_g_total  \\\n",
       "0         0.0          0.0   100.0                   -0.744048   \n",
       "1         0.0          0.0   100.0                   -0.403470   \n",
       "2         0.0          0.0   100.0                   -0.505354   \n",
       "3         0.0          0.0   100.0                    1.373274   \n",
       "4         0.0          0.0   100.0                   -0.242587   \n",
       "\n",
       "   avg_product_volume_cc_total  \n",
       "0                     0.290389  \n",
       "1                    -0.487425  \n",
       "2                    -0.874113  \n",
       "3                     1.214863  \n",
       "4                    -0.225647  \n",
       "\n",
       "[5 rows x 24 columns]"
      ]
     },
     "execution_count": 66,
     "metadata": {},
     "output_type": "execute_result"
    }
   ],
   "source": [
    "sample_scaled_completed.head()"
   ]
  },
  {
   "cell_type": "markdown",
   "id": "659058c8-c28c-4e0e-9a7c-be461bad4680",
   "metadata": {
    "tags": []
   },
   "source": [
    "<div style=\"background-color: #6D83C5;\" >\n",
    "    <h3 style=\"margin: auto; padding: 20px; color:#fff; \">3.2. Principal component analysis - PCA</h3>\n",
    "</div>"
   ]
  },
  {
   "cell_type": "code",
   "execution_count": 87,
   "id": "80b2d539-b55d-49be-8885-48cdb5e4d65f",
   "metadata": {},
   "outputs": [],
   "source": [
    "for key, value in DICTIONARY_DFS.items():\n",
    "    \n",
    "    # Numbers of components to calculate to PCA\n",
    "    globals()[\"n_comp_\" + key] = globals()[\"sample_scaled_\" + key].shape[1]\n",
    "    \n",
    "    # Selecting the features to analyse with PCA\n",
    "    globals()[\"X_\" + key] = globals()[\"sample_scaled_\" + key].values\n",
    "    globals()[\"index_values_\" + key] = globals()[\"sample_scaled_\" + key].index\n",
    "    globals()[\"features_\" + key] = globals()[\"sample_scaled_\" + key].columns\n",
    "    \n",
    "    # Principal components determination \n",
    "    globals()[\"pca_\" + key] = PCA(n_components=globals()[\"n_comp_\" + key]).fit(globals()[\"X_\" + key])\n",
    "    \n",
    "    # Making a dataset based on PCA results\n",
    "    globals()[\"df_pca_\" + key] = pd.DataFrame(globals()[\"pca_\" + key].components_, \n",
    "                                              index=[\"PC\" + str(i+1) for i in range(globals()[\"n_comp_\" + key])],\n",
    "                                              columns=globals()[\"features_\" + key] ).T"
   ]
  },
  {
   "cell_type": "code",
   "execution_count": 90,
   "id": "6acb5d6b-389a-470e-989d-8fd3a8d95c99",
   "metadata": {},
   "outputs": [
    {
     "data": {
      "image/png": "[encoded data removed]",
      "text/plain": [
       "<Figure size 576x504 with 2 Axes>"
      ]
     },
     "metadata": {},
     "output_type": "display_data"
    }
   ],
   "source": [
    "plt.figure(figsize=(8,7))\n",
    "plt.title(\"Principal components coefficients\", size=20)\n",
    "\n",
    "ax = sns.heatmap(df_pca_reduced, vmin=-1, vmax=1, center=0, cmap=\"mako_r\",\n",
    "                annot=True, annot_kws={\"size\": 14}, fmt=\".3f\")\n",
    "\n",
    "plt.xticks(size=14)\n",
    "plt.yticks(size=14)\n",
    "plt.tight_layout()\n",
    "plt.savefig(\"images/principal-components-coefficients.png\")\n",
    "plt.show()"
   ]
  },
  {
   "cell_type": "markdown",
   "id": "8df42410-2d4e-4d47-add8-5ffd67803924",
   "metadata": {},
   "source": [
    "<div class=\"alert alert-block alert-info\">\n",
    "    Plotting the <b>Scree of eigenvalues</b>\n",
    "</div>"
   ]
  },
  {
   "cell_type": "code",
   "execution_count": 29,
   "id": "51248323-0d4b-4fc6-a81d-99d41963544c",
   "metadata": {},
   "outputs": [
    {
     "data": {
      "image/png": "[encoded data removed]",
      "text/plain": [
       "<Figure size 1008x504 with 1 Axes>"
      ]
     },
     "metadata": {},
     "output_type": "display_data"
    }
   ],
   "source": [
    "scree = pca.explained_variance_ratio_*100\n",
    "\n",
    "fig = plt.subplots(figsize=(14, 7))\n",
    "plot_bar = sns.barplot(x=df_pca.columns, y=scree)\n",
    "for p in plot_bar.patches:\n",
    "    plot_bar.annotate(format(p.get_height(), \".1f\"), (p.get_x() + p.get_width() / 2., p.get_height()), \n",
    "                    ha=\"center\", va=\"bottom\", xytext=(0, -15), textcoords=\"offset points\", color=\"white\")\n",
    "plot_line = sns.lineplot(x=df_pca.columns, y=scree.cumsum(), marker=\"o\", color=\"red\")\n",
    "\n",
    "for x, y in zip(df_pca.columns, scree.cumsum()):\n",
    "    plot_line.text(x, y, \"{:.2f}\".format(y), ha=\"right\", va=\"bottom\")\n",
    "\n",
    "plt.xlabel(\"Rank of the inertia axis\", size=14)\n",
    "plt.ylabel(\"% of inertia\", size=14)\n",
    "plt.title(\"Scree of eigenvalues\", size=20)\n",
    "plt.tight_layout()\n",
    "plt.savefig(\"images/scree-of-eigenvalues.png\")\n",
    "plt.show()"
   ]
  },
  {
   "cell_type": "markdown",
   "id": "d8e59caf-07a8-4b96-bd98-2bee46446006",
   "metadata": {},
   "source": [
    "<div class=\"alert alert-block alert-info\">\n",
    "    Plotting the <b>Correlation Circle</b>\n",
    "</div>"
   ]
  },
  {
   "cell_type": "code",
   "execution_count": 30,
   "id": "5ef4ce52-95f3-418f-9965-8ccd6fd901b0",
   "metadata": {},
   "outputs": [
    {
     "data": {
      "image/png": "[encoded data removed]",
      "text/plain": [
       "<Figure size 720x648 with 1 Axes>"
      ]
     },
     "metadata": {},
     "output_type": "display_data"
    },
    {
     "data": {
      "image/png": "[encoded data removed]",
      "text/plain": [
       "<Figure size 720x648 with 1 Axes>"
      ]
     },
     "metadata": {},
     "output_type": "display_data"
    }
   ],
   "source": [
    "display_circles(pca.components_, n_comp, pca, [(0,1),(2,3),(4,5)], labels=np.array(features))"
   ]
  },
  {
   "cell_type": "markdown",
   "id": "430b065b-65bd-4bc6-853e-a10a128f373c",
   "metadata": {},
   "source": [
    "<div class=\"alert alert-block alert-info\">\n",
    "    Plotting the <b>Projection of individuals</b>\n",
    "</div>"
   ]
  },
  {
   "cell_type": "code",
   "execution_count": 31,
   "id": "938ff284-35de-4c16-9e83-57be63ede206",
   "metadata": {},
   "outputs": [],
   "source": [
    "X_projected = pca.transform(X)\n",
    "index_values_sample = pd.Series(index_values).sample(100)"
   ]
  },
  {
   "cell_type": "code",
   "execution_count": 32,
   "id": "5431ddae-8380-423b-88c4-1b3c323793fe",
   "metadata": {},
   "outputs": [
    {
     "data": {
      "image/png": "[encoded data removed]",
      "text/plain": [
       "<Figure size 1152x768 with 2 Axes>"
      ]
     },
     "metadata": {},
     "output_type": "display_data"
    }
   ],
   "source": [
    "display_factorial_planes(X_projected, n_comp, pca, [(0,1),(2,3),(4,5)], \n",
    "                         labels=np.array(index_values_sample), illus_var=data_sample.loc[index_values_sample, \"rfm_score_label\"], \n",
    "                         lab_on=False, alpha = 0.5)"
   ]
  },
  {
   "cell_type": "markdown",
   "id": "88ab4430-1a8e-469f-a046-832d504f2403",
   "metadata": {},
   "source": [
    "<div class=\"alert alert-block alert-info\">\n",
    "    Keeping the <b>90% of the variance of the components</b>\n",
    "</div>"
   ]
  },
  {
   "cell_type": "code",
   "execution_count": 33,
   "id": "00cc8090-f9d2-44fb-a3cd-fda949be4670",
   "metadata": {
    "tags": []
   },
   "outputs": [
    {
     "name": "stdout",
     "output_type": "stream",
     "text": [
      "Number of selected components: 3\n",
      "Cumulative explained variance:  98.96%\n"
     ]
    }
   ],
   "source": [
    "var_threshold=0.90\n",
    "\n",
    "# Processing the PCA\n",
    "pca = decomposition.PCA()\n",
    "pca.fit(X)\n",
    "\n",
    "# Getting the explained variance ratio for each principal component\n",
    "scree = pca.explained_variance_ratio_\n",
    "\n",
    "# Getting the number of principal components to reach variance thresholds\n",
    "mask = scree.cumsum() > var_threshold\n",
    "nb_selected_components = len(scree[~mask]) + 1\n",
    "print(\"Number of selected components:\", nb_selected_components)\n",
    "\n",
    "# Compute and displays the actual ratio of explained variance\n",
    "explained_variance_sum = scree.cumsum()[nb_selected_components-1]\n",
    "print(\"Cumulative explained variance:  {:.2f}%\".format(explained_variance_sum*100))\n",
    "\n",
    "# Getting the projection of the data on the first components\n",
    "X_PCA = pca.transform(X)[:,:nb_selected_components]"
   ]
  },
  {
   "cell_type": "code",
   "execution_count": 34,
   "id": "ad371359-0d91-47f0-96c1-7df323c46441",
   "metadata": {},
   "outputs": [],
   "source": [
    "COL_TO_PC =  [\"PC\" + str(i + 1) for i in range(nb_selected_components)]"
   ]
  },
  {
   "cell_type": "code",
   "execution_count": 35,
   "id": "dfca5049-309e-41d6-8edb-ff1a3a9afd91",
   "metadata": {
    "tags": []
   },
   "outputs": [],
   "source": [
    "df_worked = pd.DataFrame(data=X_PCA, columns=COL_TO_PC, index=index_values)"
   ]
  },
  {
   "cell_type": "code",
   "execution_count": 36,
   "id": "66c9c7a7-bd16-421f-97a2-b395909b2547",
   "metadata": {},
   "outputs": [
    {
     "data": {
      "text/html": [
       "<div>\n",
       "<style scoped>\n",
       "    .dataframe tbody tr th:only-of-type {\n",
       "        vertical-align: middle;\n",
       "    }\n",
       "\n",
       "    .dataframe tbody tr th {\n",
       "        vertical-align: top;\n",
       "    }\n",
       "\n",
       "    .dataframe thead th {\n",
       "        text-align: right;\n",
       "    }\n",
       "</style>\n",
       "<table border=\"1\" class=\"dataframe\">\n",
       "  <thead>\n",
       "    <tr style=\"text-align: right;\">\n",
       "      <th></th>\n",
       "      <th>PC1</th>\n",
       "      <th>PC2</th>\n",
       "      <th>PC3</th>\n",
       "    </tr>\n",
       "  </thead>\n",
       "  <tbody>\n",
       "    <tr>\n",
       "      <th>0</th>\n",
       "      <td>2.701340</td>\n",
       "      <td>-1.580367</td>\n",
       "      <td>0.617224</td>\n",
       "    </tr>\n",
       "    <tr>\n",
       "      <th>1</th>\n",
       "      <td>2.719635</td>\n",
       "      <td>-1.079095</td>\n",
       "      <td>0.691419</td>\n",
       "    </tr>\n",
       "    <tr>\n",
       "      <th>2</th>\n",
       "      <td>2.675058</td>\n",
       "      <td>-2.088678</td>\n",
       "      <td>0.541481</td>\n",
       "    </tr>\n",
       "    <tr>\n",
       "      <th>3</th>\n",
       "      <td>1.781497</td>\n",
       "      <td>0.212651</td>\n",
       "      <td>0.920086</td>\n",
       "    </tr>\n",
       "    <tr>\n",
       "      <th>4</th>\n",
       "      <td>1.756414</td>\n",
       "      <td>-0.429467</td>\n",
       "      <td>0.824936</td>\n",
       "    </tr>\n",
       "  </tbody>\n",
       "</table>\n",
       "</div>"
      ],
      "text/plain": [
       "        PC1       PC2       PC3\n",
       "0  2.701340 -1.580367  0.617224\n",
       "1  2.719635 -1.079095  0.691419\n",
       "2  2.675058 -2.088678  0.541481\n",
       "3  1.781497  0.212651  0.920086\n",
       "4  1.756414 -0.429467  0.824936"
      ]
     },
     "execution_count": 36,
     "metadata": {},
     "output_type": "execute_result"
    }
   ],
   "source": [
    "df_worked.head(5)"
   ]
  },
  {
   "cell_type": "code",
   "execution_count": 37,
   "id": "4063197b-93c5-4ab8-8f1b-72ff596ca75a",
   "metadata": {
    "tags": []
   },
   "outputs": [
    {
     "data": {
      "text/plain": [
       "(66934, 3)"
      ]
     },
     "execution_count": 37,
     "metadata": {},
     "output_type": "execute_result"
    }
   ],
   "source": [
    "df_worked.shape"
   ]
  },
  {
   "cell_type": "markdown",
   "id": "21776121-7ea3-43f3-8d8f-ae1b35490f77",
   "metadata": {
    "tags": []
   },
   "source": [
    "<div style=\"background-color: #506AB9;\" >\n",
    "    <h2 style=\"margin: auto; padding: 20px; color:#fff; \">3. K-Means</h2>\n",
    "</div>"
   ]
  },
  {
   "cell_type": "markdown",
   "id": "0ed0a7c0-9f62-4a1e-b6e5-e2c7076966b0",
   "metadata": {},
   "source": [
    "<div style=\"background-color: #6D83C5;\" >\n",
    "    <h3 style=\"margin: auto; padding: 20px; color:#fff; \">3.1. Number of Cluster</h3>\n",
    "</div>"
   ]
  },
  {
   "cell_type": "code",
   "execution_count": 38,
   "id": "ad0ca745-c00f-44d0-a610-58c8bba62dfe",
   "metadata": {},
   "outputs": [
    {
     "data": {
      "text/plain": [
       "array([[ 2.70133972, -1.58036696,  0.61722449],\n",
       "       [ 2.71963532, -1.07909525,  0.69141938],\n",
       "       [ 2.67505839, -2.08867777,  0.54148146],\n",
       "       ...,\n",
       "       [ 1.63910786,  4.77198781, -2.45536299],\n",
       "       [ 1.5780722 ,  0.69969752, -0.02983021],\n",
       "       [-0.50117483, -0.40263653,  0.88498403]])"
      ]
     },
     "execution_count": 38,
     "metadata": {},
     "output_type": "execute_result"
    }
   ],
   "source": [
    "X_PCA"
   ]
  },
  {
   "cell_type": "code",
   "execution_count": 39,
   "id": "b0ef2eff-fe0c-4cd1-a8ee-f13256331f59",
   "metadata": {},
   "outputs": [
    {
     "data": {
      "image/png": "[encoded data removed]",
      "text/plain": [
       "<Figure size 432x288 with 1 Axes>"
      ]
     },
     "metadata": {},
     "output_type": "display_data"
    },
    {
     "data": {
      "text/plain": [
       "<AxesSubplot:title={'center':'Distortion Score Elbow for KMeans Clustering'}, xlabel='k', ylabel='distortion score'>"
      ]
     },
     "execution_count": 39,
     "metadata": {},
     "output_type": "execute_result"
    }
   ],
   "source": [
    "model = KMeans()\n",
    "visualizer = KElbowVisualizer(model, k=(2, 10), timings=False)\n",
    "visualizer.fit(df_worked)\n",
    "visualizer.show()"
   ]
  },
  {
   "cell_type": "code",
   "execution_count": 41,
   "id": "f4c7a171-afa9-4098-8006-fe4f4a761f73",
   "metadata": {},
   "outputs": [
    {
     "data": {
      "image/png": "[encoded data removed]",
      "text/plain": [
       "<Figure size 432x288 with 1 Axes>"
      ]
     },
     "metadata": {},
     "output_type": "display_data"
    }
   ],
   "source": [
    "# Run a number of tests, for 1, 2, ... num_clusters\n",
    "num_clusters = 50\n",
    "kmeans_tests = [KMeans(n_clusters=i, init='random', n_init=10) for i in range(1, num_clusters)]\n",
    "score = [kmeans_tests[i].fit(df_worked).score(df_worked) for i in range(len(kmeans_tests))]\n",
    "\n",
    "# Plot the curve\n",
    "plt.plot(range(1, num_clusters),score)\n",
    "plt.xlabel('Number of Clusters')\n",
    "plt.ylabel('Score')\n",
    "plt.title('Elbow Curve')\n",
    "plt.show()"
   ]
  },
  {
   "cell_type": "markdown",
   "id": "1fa5d709-69e1-4834-8887-03417426bd3d",
   "metadata": {
    "tags": []
   },
   "source": [
    "<div style=\"background-color: #6D83C5;\" >\n",
    "    <h1 style=\"margin: auto; padding: 20px; color:#fff; \">------------------------------------------</h1>\n",
    "</div>"
   ]
  },
  {
   "cell_type": "markdown",
   "id": "d56092bc-fb0b-4d75-8756-1d64fe390af1",
   "metadata": {
    "tags": []
   },
   "source": [
    "<div class=\"alert alert-block alert-danger\">\n",
    "    <p><b>Flag position</b></p>\n",
    "</div>"
   ]
  },
  {
   "cell_type": "code",
   "execution_count": 29,
   "id": "a9279d00-d847-4b90-9e4f-8fb7af57dfb3",
   "metadata": {},
   "outputs": [
    {
     "ename": "SystemExit",
     "evalue": "Stop right there!",
     "output_type": "error",
     "traceback": [
      "An exception has occurred, use %tb to see the full traceback.\n",
      "\u001b[1;31mSystemExit\u001b[0m\u001b[1;31m:\u001b[0m Stop right there!\n"
     ]
    },
    {
     "name": "stderr",
     "output_type": "stream",
     "text": [
      "C:\\Users\\Samir\\anaconda3\\lib\\site-packages\\IPython\\core\\interactiveshell.py:3445: UserWarning: To exit: use 'exit', 'quit', or Ctrl-D.\n",
      "  warn(\"To exit: use 'exit', 'quit', or Ctrl-D.\", stacklevel=1)\n"
     ]
    }
   ],
   "source": [
    "raise SystemExit(\"Stop right there!\")"
   ]
  },
  {
   "cell_type": "markdown",
   "id": "715f9a71-99a4-4bb7-97d6-382da1f4b4df",
   "metadata": {},
   "source": [
    "<div class=\"alert alert-block alert-danger\">\n",
    "    <p><b>Flag position</b></p>\n",
    "</div>"
   ]
  },
  {
   "cell_type": "markdown",
   "id": "2ea690b1-2b2a-4128-977a-c3f6c60783e3",
   "metadata": {},
   "source": [
    "<div style=\"background-color: #6D83C5;\" >\n",
    "    <h1 style=\"margin: auto; padding: 20px; color:#fff; \">------------------------------------------</h1>\n",
    "</div>"
   ]
  },
  {
   "cell_type": "code",
   "execution_count": null,
   "id": "ba76980a-971b-41ae-9c87-4c8acf2d8651",
   "metadata": {},
   "outputs": [],
   "source": []
  },
  {
   "cell_type": "code",
   "execution_count": null,
   "id": "40361c02-1dce-4e38-bcb6-a62327400d5e",
   "metadata": {},
   "outputs": [],
   "source": []
  },
  {
   "cell_type": "code",
   "execution_count": null,
   "id": "e1f4d8ce-c6f3-4b99-a151-e2c29e1ec3ec",
   "metadata": {},
   "outputs": [],
   "source": []
  },
  {
   "cell_type": "code",
   "execution_count": null,
   "id": "62120daf-f167-4dee-b5f0-06412a23e150",
   "metadata": {},
   "outputs": [],
   "source": []
  },
  {
   "cell_type": "markdown",
   "id": "581da287-41f7-4214-8fb0-20812410ea17",
   "metadata": {
    "tags": []
   },
   "source": [
    "<div class=\"alert alert-block alert-info\">\n",
    "    First of all, we are going to work on deafult mode for the model\n",
    "</div>"
   ]
  },
  {
   "cell_type": "code",
   "execution_count": null,
   "id": "b5ec0a54-8834-4ed7-8bec-b236c1441aa8",
   "metadata": {},
   "outputs": [],
   "source": []
  },
  {
   "cell_type": "code",
   "execution_count": null,
   "id": "7a1308eb-d536-46fd-9a5a-6f1208f863cf",
   "metadata": {},
   "outputs": [],
   "source": []
  },
  {
   "cell_type": "code",
   "execution_count": null,
   "id": "e2a90bb5-5790-4309-b132-2de2bd845d58",
   "metadata": {},
   "outputs": [],
   "source": []
  },
  {
   "cell_type": "code",
   "execution_count": null,
   "id": "7978daf6-3505-4256-9f01-4e256cabe8c8",
   "metadata": {},
   "outputs": [],
   "source": []
  },
  {
   "cell_type": "code",
   "execution_count": null,
   "id": "2b281690-6b9f-4d26-9985-48fcbd0c1d05",
   "metadata": {},
   "outputs": [],
   "source": []
  },
  {
   "cell_type": "code",
   "execution_count": null,
   "id": "309f2825-ed90-4311-8edc-777df087ce53",
   "metadata": {},
   "outputs": [],
   "source": [
    "model = KMeans(init=\"random\", n_clusters=\"4\", n_init=10)"
   ]
  },
  {
   "cell_type": "code",
   "execution_count": null,
   "id": "015fd903-ef78-400b-adfa-d53dedb3fe1b",
   "metadata": {},
   "outputs": [],
   "source": [
    "label  = model.fit_predict(df_data_PCA)"
   ]
  },
  {
   "cell_type": "code",
   "execution_count": null,
   "id": "b22909ed-a89c-493a-81b0-ebb4edea4b6e",
   "metadata": {},
   "outputs": [],
   "source": [
    "# centroids = model.cluster_centers_\n",
    "u_labels = np.unique(label)"
   ]
  },
  {
   "cell_type": "code",
   "execution_count": null,
   "id": "81a1bc95-e646-4b4d-a82e-0ff56576a84a",
   "metadata": {},
   "outputs": [],
   "source": [
    "# Graphical representation\n",
    "plt.figure(figsize=(10, 10))\n",
    "for i in u_labels:\n",
    "    plt.scatter(df_data_PCA.iloc[label==i, 0], df_data_PCA.iloc[label==i, 1], label = i)\n",
    "plt.scatter(centroids[:, 0], centroids[:,1], s=80, alpha=0.8, color='k')\n",
    "plt.legend()\n",
    "plt.title('Représentation des clusters du K-Means')\n",
    "plt.show()"
   ]
  },
  {
   "cell_type": "markdown",
   "id": "1b49237e-5936-4119-9fbb-731cffbb31a5",
   "metadata": {},
   "source": [
    "<div style=\"background-color: #6D83C5;\" >\n",
    "    <h3 style=\"margin: auto; padding: 20px; color:#fff; \">3.1. K-means</h3>\n",
    "</div>"
   ]
  },
  {
   "cell_type": "markdown",
   "id": "d6f35ea6-4ad8-46da-a9e1-1e7f9a86bcc1",
   "metadata": {
    "tags": []
   },
   "source": [
    "<div class=\"alert alert-block alert-info\">\n",
    "    First of all, we are going to work on deafult mode for the model\n",
    "</div>"
   ]
  },
  {
   "cell_type": "code",
   "execution_count": null,
   "id": "4f92ebe9-b941-4fb0-b7d7-5dd2b92be71e",
   "metadata": {},
   "outputs": [],
   "source": []
  },
  {
   "cell_type": "code",
   "execution_count": null,
   "id": "c2de3bba-7175-497d-8c90-e59d4b33c625",
   "metadata": {},
   "outputs": [],
   "source": [
    "https://www.scikit-yb.org/en/latest/"
   ]
  },
  {
   "cell_type": "markdown",
   "id": "51e22a78-938d-406d-bc29-77767f83b440",
   "metadata": {},
   "source": [
    "https://www.youtube.com/watch?v=4b5d3muPQmA\n",
    "- forma\n",
    "    -- centroide??\n",
    "        -- homogeneidad\n",
    "        -- Separacion de cluster -- SKL=\n",
    "         union --> index davies bouldin\n",
    "         silhouette -> escoger la cantidad de cluster y ver la estabilidad\n",
    "- estabilidad\n",
    "- coherencia\n",
    "\n",
    "\n",
    "- ARI, pour Adjusted Rand Index\n",
    "\n",
    "https://towardsdatascience.com/clustering-algorithms-for-customer-segmentation-af637c6830ac\n",
    "https://jakevdp.github.io/PythonDataScienceHandbook/05.11-k-means.html\n",
    "https://www.youtube.com/watch?v=EItlUEPCIzM\n",
    "https://datascientest.com/algorithme-des-k-means.\n",
    "https://realpython.com/k-means-clustering-python/"
   ]
  },
  {
   "cell_type": "markdown",
   "id": "63f8498a-2cfb-4e58-b44e-5cc9d295ed7c",
   "metadata": {
    "tags": []
   },
   "source": [
    "<div style=\"background-color: #6D83C5;\" >\n",
    "    <h1 style=\"margin: auto; padding: 20px; color:#fff; \">------------------------------------------</h1>\n",
    "</div>"
   ]
  },
  {
   "cell_type": "markdown",
   "id": "b68208d7-3906-40b2-bab9-698766dc5b5b",
   "metadata": {
    "tags": []
   },
   "source": [
    "<div class=\"alert alert-block alert-danger\">\n",
    "    <p><b>Flag position</b></p>\n",
    "</div>"
   ]
  },
  {
   "cell_type": "code",
   "execution_count": null,
   "id": "35abb369-e30b-40b8-8702-eca98a5dab34",
   "metadata": {},
   "outputs": [],
   "source": [
    "raise SystemExit(\"Stop right there!\")"
   ]
  },
  {
   "cell_type": "markdown",
   "id": "791437d8-db9c-4dd1-b878-413fe4930000",
   "metadata": {},
   "source": [
    "<div class=\"alert alert-block alert-danger\">\n",
    "    <p><b>Flag position</b></p>\n",
    "</div>"
   ]
  },
  {
   "cell_type": "markdown",
   "id": "f6e92424-9e16-4c6b-b58f-f70ec86a50a7",
   "metadata": {},
   "source": [
    "<div style=\"background-color: #6D83C5;\" >\n",
    "    <h1 style=\"margin: auto; padding: 20px; color:#fff; \">------------------------------------------</h1>\n",
    "</div>"
   ]
  },
  {
   "cell_type": "markdown",
   "id": "8524fae3-a9c6-4c3e-862d-6ec09216ae17",
   "metadata": {
    "tags": []
   },
   "source": [
    "<div style=\"background-color: #6D83C5;\" >\n",
    "    <h3 style=\"margin: auto; padding: 20px; color:#fff; \">3.2. Optimization</h3>\n",
    "</div>"
   ]
  },
  {
   "cell_type": "markdown",
   "id": "e14e52a8-c354-45bd-967d-524154d20b37",
   "metadata": {
    "tags": []
   },
   "source": [
    "<div class=\"alert alert-block alert-info\">\n",
    "    List of models to use. for now, in default mode\n",
    "</div>"
   ]
  },
  {
   "cell_type": "code",
   "execution_count": null,
   "id": "ae2ec861-2bd2-4cb9-99c0-a0eb3d8d6f12",
   "metadata": {},
   "outputs": [],
   "source": []
  },
  {
   "cell_type": "code",
   "execution_count": null,
   "id": "3eb212fd-a5f5-4e54-a6a2-b8638d688a78",
   "metadata": {},
   "outputs": [],
   "source": []
  },
  {
   "cell_type": "code",
   "execution_count": null,
   "id": "2413cc0e-1d68-48dd-b028-0a5ae8d59a06",
   "metadata": {},
   "outputs": [],
   "source": []
  },
  {
   "cell_type": "code",
   "execution_count": null,
   "id": "f42dce7c-96ef-4513-acf2-1fb910de7435",
   "metadata": {},
   "outputs": [],
   "source": []
  },
  {
   "cell_type": "code",
   "execution_count": null,
   "id": "d9bc3b4f-3f2b-448f-8542-27066f9d909c",
   "metadata": {},
   "outputs": [],
   "source": []
  },
  {
   "cell_type": "code",
   "execution_count": null,
   "id": "bce960dd-6594-4f0c-8856-28a9c45be18d",
   "metadata": {},
   "outputs": [],
   "source": []
  },
  {
   "cell_type": "code",
   "execution_count": null,
   "id": "1e83e30a-ae5f-4e1e-8605-28731188a8d3",
   "metadata": {},
   "outputs": [],
   "source": []
  },
  {
   "cell_type": "markdown",
   "id": "8ce74173-c3ce-4506-9746-bf377d472957",
   "metadata": {},
   "source": [
    "- Clustering hiérarchique\n",
    "- k-means\n",
    "- DBScan"
   ]
  },
  {
   "cell_type": "code",
   "execution_count": null,
   "id": "3e30ef72-fe9f-42ac-8f10-0dc4eee35432",
   "metadata": {},
   "outputs": [],
   "source": []
  },
  {
   "cell_type": "code",
   "execution_count": null,
   "id": "207571cb-f3d9-4de5-97fe-9e809cc58b49",
   "metadata": {},
   "outputs": [],
   "source": []
  },
  {
   "cell_type": "markdown",
   "id": "55f121c9-d048-43c2-a7ae-6cde844dcac8",
   "metadata": {},
   "source": [
    "https://www.definitions-marketing.com/definition/segmentation-rfm/<br>\n",
    "https://lms.simplilearn.com/courses/4414/Introduction-to-Supervised-&-Unsupervised-Machine-Learning/syllabus<br>\n",
    "\n",
    "https://classroom.udacity.com/courses/st101<br>\n",
    "https://classroom.udacity.com/courses/ud827<br>\n",
    "https://www.freecodecamp.org/news/free-machine-learning-course-10-hourse/<br>\n",
    "\n",
    "https://towardsdatascience.com/10-highly-probable-data-scientist-interview-questions-fd83f7414760<br>"
   ]
  },
  {
   "cell_type": "code",
   "execution_count": null,
   "id": "71ac483b-7db8-46c2-be22-ebf21aecabff",
   "metadata": {},
   "outputs": [],
   "source": []
  },
  {
   "cell_type": "code",
   "execution_count": null,
   "id": "15a92a96-b2ba-417b-8b3a-e89ffe95f3c3",
   "metadata": {},
   "outputs": [],
   "source": []
  },
  {
   "cell_type": "code",
   "execution_count": null,
   "id": "ea4c4d85-2779-4748-8f30-4dde54a35ef2",
   "metadata": {},
   "outputs": [],
   "source": []
  },
  {
   "cell_type": "code",
   "execution_count": null,
   "id": "61bf9cc2-1b59-4f8c-bc11-a183e2bed256",
   "metadata": {},
   "outputs": [],
   "source": []
  },
  {
   "cell_type": "code",
   "execution_count": null,
   "id": "f38690c7-4600-4528-ae1d-14cc46005a9c",
   "metadata": {},
   "outputs": [],
   "source": []
  }
 ],
 "metadata": {
  "kernelspec": {
   "display_name": "Python 3",
   "language": "python",
   "name": "python3"
  },
  "language_info": {
   "codemirror_mode": {
    "name": "ipython",
    "version": 3
   },
   "file_extension": ".py",
   "mimetype": "text/x-python",
   "name": "python",
   "nbconvert_exporter": "python",
   "pygments_lexer": "ipython3",
   "version": "3.8.5"
  }
 },
 "nbformat": 4,
 "nbformat_minor": 5
}
